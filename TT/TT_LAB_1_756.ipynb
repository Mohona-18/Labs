{
  "nbformat": 4,
  "nbformat_minor": 0,
  "metadata": {
    "colab": {
      "name": "TT_LAB_1_756.ipynb",
      "provenance": []
    },
    "kernelspec": {
      "name": "python3",
      "display_name": "Python 3"
    },
    "language_info": {
      "name": "python"
    }
  },
  "cells": [
    {
      "cell_type": "markdown",
      "source": [
        "Name- Mohona Das<br>\n",
        "Roll No-1905756<br>\n",
        "TT_LAB_1<br>\n",
        "<hr>"
      ],
      "metadata": {
        "id": "1joFOEoWyjdM"
      }
    },
    {
      "cell_type": "markdown",
      "source": [
        "1) Write a Python program(WAPP) to input any two integers, and provide a menu to the user to select any of the options as add, subtract, multiply, divide and display the result accordingly. "
      ],
      "metadata": {
        "id": "E51cV4T_yjJR"
      }
    },
    {
      "cell_type": "code",
      "execution_count": 23,
      "metadata": {
        "colab": {
          "base_uri": "https://localhost:8080/"
        },
        "id": "Srg5Vw6byez0",
        "outputId": "599fbc74-3f55-439b-8e8c-9e7f143c1685"
      },
      "outputs": [
        {
          "output_type": "stream",
          "name": "stdout",
          "text": [
            "1 for add\n",
            "  2 for substract\n",
            "  3 for multiplication\n",
            "  4 for division (floor)\n",
            "  5 for division\n",
            "  6 for modulous\n",
            "  7 for Exit\n",
            "  \n",
            "Enter choice:3\n",
            "Enter a number4\n",
            "Enter a number5\n",
            "20\n",
            "1 for add\n",
            "  2 for substract\n",
            "  3 for multiplication\n",
            "  4 for division (floor)\n",
            "  5 for division\n",
            "  6 for modulous\n",
            "  7 for Exit\n",
            "  \n",
            "Enter choice:7\n",
            "Enter a number4\n",
            "Enter a number6\n",
            "Exit\n"
          ]
        }
      ],
      "source": [
        "n=True\n",
        "while(n):\n",
        "  print(\"\"\"1 for add\n",
        "  2 for substract\n",
        "  3 for multiplication\n",
        "  4 for division (floor)\n",
        "  5 for division\n",
        "  6 for modulous\n",
        "  7 for Exit\n",
        "  \"\"\" )\n",
        "  choice=int(input(\"Enter choice: \"))\n",
        "  a=(int)(input(\"Enter a number \"))\n",
        "  b=(int)(input(\"Enter a number \"))\n",
        "  if choice==1:\n",
        "    print(a+b)\n",
        "  elif choice==2:\n",
        "    print(a-b)\n",
        "  elif choice==3:\n",
        "    print(a*b)\n",
        "  elif choice==4:\n",
        "    print(a//b)\n",
        "  elif choice==5:\n",
        "    print(a/b)\n",
        "  elif choice==6:\n",
        "    print(a%b)\n",
        "  elif choice==7:\n",
        "    print(\"Exit\")\n",
        "    break\n",
        "  else:\n",
        "   print(\"Incorrect Choice\")\n"
      ]
    },
    {
      "cell_type": "markdown",
      "source": [
        "2) WAPP to check if a year is leap year or not. "
      ],
      "metadata": {
        "id": "qxbTFSsN1HqQ"
      }
    },
    {
      "cell_type": "code",
      "source": [
        "year=(int)(input(\"Enter year:\"))\n",
        "if (year % 400 == 0) and (year % 100 == 0):\n",
        "  print(\"{} is a leap year\".format(year))\n",
        "elif (year % 4 ==0) and (year % 100 != 0):\n",
        "  print(\"{} is a leap year\".format(year))\n",
        "else:\n",
        "  print(\"{} is not a leap year\".format(year))"
      ],
      "metadata": {
        "colab": {
          "base_uri": "https://localhost:8080/"
        },
        "id": "USVDnho_1K3Q",
        "outputId": "f1389d73-7b63-4276-de25-311a680ac368"
      },
      "execution_count": 4,
      "outputs": [
        {
          "output_type": "stream",
          "name": "stdout",
          "text": [
            "Enter year:2020\n",
            "2020 is a leap year\n"
          ]
        }
      ]
    },
    {
      "cell_type": "markdown",
      "source": [
        "3) WAPP to convert temperature from centigrade to Fahrenheit scale. \n"
      ],
      "metadata": {
        "id": "9BU7SB7a1Ywo"
      }
    },
    {
      "cell_type": "code",
      "source": [
        "temp=(float)(input(\"enter temperature:\"))\n",
        "t=(((temp/5)*9)+32)\n",
        "print(t)"
      ],
      "metadata": {
        "colab": {
          "base_uri": "https://localhost:8080/"
        },
        "id": "RSpEWql41nh8",
        "outputId": "1e8a8e29-5725-4606-d655-7162c3d07942"
      },
      "execution_count": 6,
      "outputs": [
        {
          "output_type": "stream",
          "name": "stdout",
          "text": [
            "enter temperature:-40\n",
            "-40.0\n"
          ]
        }
      ]
    },
    {
      "cell_type": "markdown",
      "source": [
        "4) WAPP to add two times in hour, minute & second format entered through the keyboard. "
      ],
      "metadata": {
        "id": "pHsrPEYG1yW2"
      }
    },
    {
      "cell_type": "code",
      "source": [
        "print(\"Enter Time 1 :\")\n",
        "h1=(int)(input(\"Hour : \"))\n",
        "m1=(int)(input(\"Minute : \"))\n",
        "s1=(int)(input(\"Second : \"))\n",
        "print(\"Enter Time 2 :\")\n",
        "h2=(int)(input(\"Hour : \"))\n",
        "m2=(int)(input(\"Minute : \"))\n",
        "s2=(int)(input(\"Second : \"))\n",
        "h3=h1+h2+(m1+m2+(s1+s2)//60)//60\n",
        "m3=(m1+m2+(s1+s2)//60)%60\n",
        "s3=(s1+s2)%60\n",
        "print(\"Time 1 :\",h1,\" Hour\",m1,\" Minute and \",s1,\" Second\")\n",
        "print(\"Time 2 :\",h2,\" Hour\",m2,\" Minute and \",s2,\" Second\")\n",
        "print(\"Total Time :\",h3,\" Hour &\",m3,\" Minute and \",s3,\"Second\")"
      ],
      "metadata": {
        "colab": {
          "base_uri": "https://localhost:8080/"
        },
        "id": "rlg8IvkU2AfR",
        "outputId": "073e4292-007a-4c08-b500-b35dcce85873"
      },
      "execution_count": 7,
      "outputs": [
        {
          "output_type": "stream",
          "name": "stdout",
          "text": [
            "Enter Time 1 :\n",
            "Hour : 5\n",
            "Minute : 6\n",
            "Second : 59\n",
            "Enter Time 2 :\n",
            "Hour : 4\n",
            "Minute : 30\n",
            "Second : 4\n",
            "Time 1 : 5  Hour 6  Minute and  59  Second\n",
            "Time 2 : 4  Hour 30  Minute and  4  Second\n",
            "Total Time : 9  Hour & 37  Minute and  3 Second\n"
          ]
        }
      ]
    },
    {
      "cell_type": "markdown",
      "source": [
        " 5) WAPP to check if the given number is Armstrong or not. "
      ],
      "metadata": {
        "id": "p1qsteNu2lcX"
      }
    },
    {
      "cell_type": "code",
      "source": [
        "num = (int)(input(\"Enter a number: \"))\n",
        "sum = 0\n",
        "temp = num\n",
        "while temp > 0:\n",
        "  digit = temp % 10\n",
        "  sum += digit ** 3\n",
        "  temp //= 10\n",
        "if num == sum:\n",
        "  print(num,\"is an Armstrong number\")\n",
        "else:\n",
        "  print(num,\"is not an Armstrong number\")"
      ],
      "metadata": {
        "colab": {
          "base_uri": "https://localhost:8080/"
        },
        "id": "HgO-GkwO2lOS",
        "outputId": "d84994d7-36bb-4cf4-c0b1-0e192ac584ff"
      },
      "execution_count": 10,
      "outputs": [
        {
          "output_type": "stream",
          "name": "stdout",
          "text": [
            "Enter a number: 153\n",
            "153 is an Armstrong number\n"
          ]
        }
      ]
    },
    {
      "cell_type": "markdown",
      "source": [
        " 6)WAPP to find out the factors of a number. **bold text**"
      ],
      "metadata": {
        "id": "SVZOxjfp3lpo"
      }
    },
    {
      "cell_type": "code",
      "source": [
        "n=(int)(input(\"Enter a number\"))\n",
        "l1=[x+1 for x in range(n+1) if n%(x+1)==0]\n",
        "print(l1)"
      ],
      "metadata": {
        "colab": {
          "base_uri": "https://localhost:8080/"
        },
        "id": "UBr6Zrs13lH4",
        "outputId": "bb0a463d-66e5-4b69-f18e-844fd157fdcb"
      },
      "execution_count": 16,
      "outputs": [
        {
          "output_type": "stream",
          "name": "stdout",
          "text": [
            "Enter a number16\n",
            "[1, 2, 4, 8, 16]\n"
          ]
        }
      ]
    },
    {
      "cell_type": "markdown",
      "source": [
        " 7)WAPP to print all even numbers between 100 to 200 using a loop. "
      ],
      "metadata": {
        "id": "0M3Pm2QQ4uWe"
      }
    },
    {
      "cell_type": "code",
      "source": [
        "for i in range(100,200,2):\n",
        "  print(i)"
      ],
      "metadata": {
        "colab": {
          "base_uri": "https://localhost:8080/"
        },
        "id": "0HvKeAUv4yBz",
        "outputId": "d818cb67-536b-400d-ccfa-a6c6a071c46b"
      },
      "execution_count": 19,
      "outputs": [
        {
          "output_type": "stream",
          "name": "stdout",
          "text": [
            "100\n",
            "102\n",
            "104\n",
            "106\n",
            "108\n",
            "110\n",
            "112\n",
            "114\n",
            "116\n",
            "118\n",
            "120\n",
            "122\n",
            "124\n",
            "126\n",
            "128\n",
            "130\n",
            "132\n",
            "134\n",
            "136\n",
            "138\n",
            "140\n",
            "142\n",
            "144\n",
            "146\n",
            "148\n",
            "150\n",
            "152\n",
            "154\n",
            "156\n",
            "158\n",
            "160\n",
            "162\n",
            "164\n",
            "166\n",
            "168\n",
            "170\n",
            "172\n",
            "174\n",
            "176\n",
            "178\n",
            "180\n",
            "182\n",
            "184\n",
            "186\n",
            "188\n",
            "190\n",
            "192\n",
            "194\n",
            "196\n",
            "198\n"
          ]
        }
      ]
    },
    {
      "cell_type": "markdown",
      "source": [
        "8) WAPP to find LCM of 2 numbers using a while loop. "
      ],
      "metadata": {
        "id": "ZV9yZP1s5K2r"
      }
    },
    {
      "cell_type": "code",
      "source": [
        "x=(int)(input(\"Enter a number: \"))\n",
        "y=(int)(input(\"Enter a number: \"))\n",
        "if x > y:\n",
        "  max= x\n",
        "else:\n",
        "  max = y\n",
        "while(True):\n",
        "  if((max % x == 0) and (max% y == 0)):\n",
        "    lcm = max\n",
        "    break\n",
        "  max += 1\n",
        "print(\"The L.C.M. is\",lcm)"
      ],
      "metadata": {
        "colab": {
          "base_uri": "https://localhost:8080/"
        },
        "id": "JTZfaZLm5N3x",
        "outputId": "a1ef2d7a-54bd-46f9-f9c0-0e7db5b7ea68"
      },
      "execution_count": 24,
      "outputs": [
        {
          "output_type": "stream",
          "name": "stdout",
          "text": [
            "Enter a number: 4\n",
            "Enter a number: 16\n",
            "The L.C.M. is 16\n"
          ]
        }
      ]
    },
    {
      "cell_type": "markdown",
      "source": [
        "9) WAPP to find out the distance between two coordinates (x1, y1) & (x2, y2). "
      ],
      "metadata": {
        "id": "IcSzoGQGEjII"
      }
    },
    {
      "cell_type": "code",
      "source": [
        "import math\n",
        "print(\"Enter Point 1\")\n",
        "x1=(int)(input(\"Enter X co-ordinate \"))\n",
        "y1=(int)(input(\"Enter Y co-ordinate \"))\n",
        "print(\"Enter Point 2\")\n",
        "x2=(int)(input(\"Enter X co-ordinate \"))\n",
        "y2=(int)(input(\"Enter Y co-ordinate \"))\n",
        "distance=math.sqrt(math.pow(x2-x1,2)+math.pow(y2-y1,2))\n",
        "print(\"Distance \",distance)"
      ],
      "metadata": {
        "colab": {
          "base_uri": "https://localhost:8080/"
        },
        "id": "n29pI5c2EpuS",
        "outputId": "0d4f9995-1bd8-45c3-caff-26c5f899cd5b"
      },
      "execution_count": 25,
      "outputs": [
        {
          "output_type": "stream",
          "name": "stdout",
          "text": [
            "Enter Point 1\n",
            "Enter X co-ordinate 3\n",
            "Enter Y co-ordinate 4\n",
            "Enter Point 2\n",
            "Enter X co-ordinate 5\n",
            "Enter Y co-ordinate 6\n",
            "Distance  2.8284271247461903\n"
          ]
        }
      ]
    },
    {
      "cell_type": "markdown",
      "source": [
        "10)WAPP to find the multiplication table of any number using a for loop. "
      ],
      "metadata": {
        "id": "073wBmxqGNo_"
      }
    },
    {
      "cell_type": "code",
      "source": [
        "n=(int)(input(\"Enter a number \"))\n",
        "for i in range(1,11):\n",
        "  print(\"{0} x {1} = {2} \".format(i,n,i*n))\n"
      ],
      "metadata": {
        "colab": {
          "base_uri": "https://localhost:8080/"
        },
        "id": "B7cxccwzGOjQ",
        "outputId": "40eb79fa-3dc3-4dc5-b40b-22187032a2a2"
      },
      "execution_count": 28,
      "outputs": [
        {
          "output_type": "stream",
          "name": "stdout",
          "text": [
            "Enter a number 5\n",
            "1 x 5 = 5 \n",
            "2 x 5 = 10 \n",
            "3 x 5 = 15 \n",
            "4 x 5 = 20 \n",
            "5 x 5 = 25 \n",
            "6 x 5 = 30 \n",
            "7 x 5 = 35 \n",
            "8 x 5 = 40 \n",
            "9 x 5 = 45 \n",
            "10 x 5 = 50 \n"
          ]
        }
      ]
    },
    {
      "cell_type": "markdown",
      "source": [
        "11)WAPP to find Volume and Surface Area of Cylinder. "
      ],
      "metadata": {
        "id": "HdgPva1IHE0x"
      }
    },
    {
      "cell_type": "code",
      "source": [
        "r=(float)(input(\"Enter a radius \"))\n",
        "v=(22*r*r*r)/7\n",
        "print(\"Volume\",v)\n",
        "h=(float)(input(\"Enter the height\"))\n",
        "s=(2*22*r*(r+h))/7\n",
        "print(\"Surface Area\",s)"
      ],
      "metadata": {
        "colab": {
          "base_uri": "https://localhost:8080/"
        },
        "id": "HBFelfCLHKiS",
        "outputId": "acd1ca32-dec6-4f8f-f5eb-ef16a4d3a518"
      },
      "execution_count": 29,
      "outputs": [
        {
          "output_type": "stream",
          "name": "stdout",
          "text": [
            "Enter a radius 7\n",
            "Volume 1078.0\n",
            "Enter the height2\n",
            "Surface Area 396.0\n"
          ]
        }
      ]
    },
    {
      "cell_type": "markdown",
      "source": [
        "12)WAPP to find the roots of a quadratic equation ax2+bx+c=0. "
      ],
      "metadata": {
        "id": "p-CATiAgH4r8"
      }
    },
    {
      "cell_type": "code",
      "source": [
        "import math\n",
        "a=(int)(input(\"Enter co-eff of x^2 \"))\n",
        "b=(int)(input(\"Enter co-eff of x \"))\n",
        "c=(int)(input(\"Enter constant \"))\n",
        "d=math.pow(b,2)-(4*a*c)\n",
        "s= math.sqrt(abs(d))\n",
        "if a == 0:\n",
        "  print(\"Invalid\")\n",
        "if d > 0:\n",
        "  print(\"Roots are real and different \")\n",
        "  print((-b+s)/(2*a))\n",
        "  print((-b-s)/(2*a))\n",
        "elif d == 0:\n",
        "  print(\"Roots are real and same\")\n",
        "  print(-b/(2*a))\n",
        "else:\n",
        "  print(\"Roots are complex\")\n",
        "  print(-b/(2*a), \" + i\", s)\n",
        "  print(-b/(2*a), \" - i\", s)"
      ],
      "metadata": {
        "colab": {
          "base_uri": "https://localhost:8080/"
        },
        "id": "fEP1Gm59H_gf",
        "outputId": "1ca38e45-705e-4860-f443-2ecc4b0237f9"
      },
      "execution_count": 31,
      "outputs": [
        {
          "output_type": "stream",
          "name": "stdout",
          "text": [
            "Enter co-eff of x^2 1\n",
            "Enter co-eff of x 2\n",
            "Enter constant 1\n",
            "Roots are real and same\n",
            "-1.0\n"
          ]
        }
      ]
    },
    {
      "cell_type": "code",
      "source": [
        "#Alternatively\n",
        "import cmath\n",
        "a=(int)(input(\"Enter co-eff of x^2 \"))\n",
        "b=(int)(input(\"Enter co-eff of x \"))\n",
        "c=(int)(input(\"Enter constant \"))\n",
        "d = (b**2) - (4*a*c)\n",
        "sol1 = (-b-cmath.sqrt(d))/(2*a)\n",
        "sol2 = (-b+cmath.sqrt(d))/(2*a)\n",
        "print('The solution are {0} and {1}'.format(sol1,sol2))"
      ],
      "metadata": {
        "colab": {
          "base_uri": "https://localhost:8080/"
        },
        "id": "1sQZoLYlg3wL",
        "outputId": "bc0098b9-a603-45cd-a0ef-1c2925732fbe"
      },
      "execution_count": 59,
      "outputs": [
        {
          "output_type": "stream",
          "name": "stdout",
          "text": [
            "Enter co-eff of x^2 1\n",
            "Enter co-eff of x 2\n",
            "Enter constant 3\n",
            "The solution are (-1-1.4142135623730951j) and (-1+1.4142135623730951j)\n"
          ]
        }
      ]
    },
    {
      "cell_type": "markdown",
      "source": [
        "13)KIIT DU has following rules for grading \n",
        "system: \n",
        "http://coe.kiit.ac.in/examination-regulations.php#R1 \n",
        "WAPP to enter your marks and credit of course of any 5 courses of 2 semesters through keyboard print the corresponding grade. \n"
      ],
      "metadata": {
        "id": "Il509BtIRDhe"
      }
    },
    {
      "cell_type": "code",
      "source": [
        "total_cre=0\n",
        "total_index=0\n",
        "for j in range(1,3):\n",
        "  credit_index=0\n",
        "  cre=0\n",
        "  semester=int(input('enter the semester: '))\n",
        "  for i in range(1,6):\n",
        "    print('enter the marks and credit of subject',i)\n",
        "    mark=int(input('Enter the mark:'))\n",
        "    credit=int(input('Enter the credit:'))\n",
        "    cre+=credit\n",
        "    if(mark>=90 and mark<=100):\n",
        "      point=10\n",
        "    elif(mark>=80 and mark<=89):\n",
        "      point=9\n",
        "    elif(mark>=70 and mark<=79):\n",
        "      point=8\n",
        "    elif(mark>=60 and mark<=69):\n",
        "      point=7\n",
        "    elif(mark>=50 and mark<=59):\n",
        "      point=6\n",
        "    elif(mark>=40 and mark<=49):\n",
        "      point=5\n",
        "    else:\n",
        "      point=2\n",
        "    credit_point=credit*point\n",
        "    credit_index+=credit_point\n",
        "  total_cre+=cre\n",
        "  total_index+=credit_index\n",
        "  sgpa=credit_index/cre\n",
        "  print('the sgpa is: ',sgpa)\n",
        "cgpa=total_index/total_cre\n",
        "print('the cgpa is: ',cgpa)"
      ],
      "metadata": {
        "colab": {
          "base_uri": "https://localhost:8080/"
        },
        "id": "iOuXQpIZSWGn",
        "outputId": "b8e66c89-66b6-43fe-e54a-088ee980f100"
      },
      "execution_count": 58,
      "outputs": [
        {
          "output_type": "stream",
          "name": "stdout",
          "text": [
            "enter the semester: 1\n",
            "enter the marks and credit of subject 1\n",
            "Enter the mark:89\n",
            "Enter the credit:2\n",
            "enter the marks and credit of subject 2\n",
            "Enter the mark:87\n",
            "Enter the credit:3\n",
            "enter the marks and credit of subject 3\n",
            "Enter the mark:90\n",
            "Enter the credit:4\n",
            "enter the marks and credit of subject 4\n",
            "Enter the mark:87\n",
            "Enter the credit:2\n",
            "enter the marks and credit of subject 5\n",
            "Enter the mark:98\n",
            "Enter the credit:2\n",
            "the sgpa is:  9.461538461538462\n",
            "enter the semester: 2\n",
            "enter the marks and credit of subject 1\n",
            "Enter the mark:76\n",
            "Enter the credit:2\n",
            "enter the marks and credit of subject 2\n",
            "Enter the mark:76\n",
            "Enter the credit:4\n",
            "enter the marks and credit of subject 3\n",
            "Enter the mark:89\n",
            "Enter the credit:2\n",
            "enter the marks and credit of subject 4\n",
            "Enter the mark:76\n",
            "Enter the credit:1\n",
            "enter the marks and credit of subject 5\n",
            "Enter the mark:75\n",
            "Enter the credit:2\n",
            "the sgpa is:  8.181818181818182\n",
            "the cgpa is:  8.875\n"
          ]
        }
      ]
    },
    {
      "cell_type": "markdown",
      "source": [
        "14)A student will not be allowed to sit an exam if his/her attendance is less than 70%. \n",
        "Take following input from user: \n",
        "● Number of classes held \n",
        "● Number of classes attended \n",
        "Print percentage of class attended and check if the student is allowed to sit in the exam or not. "
      ],
      "metadata": {
        "id": "rJ1fWMR0TILx"
      }
    },
    {
      "cell_type": "code",
      "source": [
        "a=(int)(input(\"Enter no of classes held \"))\n",
        "b=(int)(input(\"Enter no of classes attended\"))\n",
        "p=(b*100)/a\n",
        "print(\"Percentage\",p)\n",
        "if p >=70:\n",
        "  print(\"Allowed\")\n",
        "else:\n",
        "  print(\"Not Allowed\")"
      ],
      "metadata": {
        "colab": {
          "base_uri": "https://localhost:8080/"
        },
        "id": "Fq8UQLMJTO2t",
        "outputId": "996b6783-6daa-46b5-b168-532165424272"
      },
      "execution_count": 33,
      "outputs": [
        {
          "output_type": "stream",
          "name": "stdout",
          "text": [
            "Enter no of classes held 4\n",
            "Enter no of classes attended1\n",
            "Percentage 25.0\n",
            "Not Allowed\n"
          ]
        }
      ]
    },
    {
      "cell_type": "markdown",
      "source": [
        "15)High Radius Company decided to give a bonus of 10% to employees if his/her year of service is more than 5 years. \n",
        "● Enter salary and year of service from the keyboard and print the net bonus amount. ● Determine oldest and youngest among 3 employees by taking input(from user) of their age. "
      ],
      "metadata": {
        "id": "V2fjUBoqUV0j"
      }
    },
    {
      "cell_type": "code",
      "source": [
        "s=(int)(input(\"Enter the salary: \"))\n",
        "a=(int)(input(\"Enter the year of service: \"))\n",
        "if a>5:\n",
        "  print(\"Bonus= \",s+(s/10))\n",
        "else:\n",
        "  print(\"No net bonus\")\n",
        "\n",
        "print(\"Enter the 3 employees age:\")\n",
        "l1=[]\n",
        "for i in range(0,3):\n",
        "  n=(int)(input())\n",
        "  l1.append(n)\n",
        "l1.sort()\n",
        "print(\"Youngest employee:\",l1[0])\n",
        "print(\"Eldest employee:\",l1[2])\n",
        "#print(\"Youngest employee: \",min(li))\n",
        "#print(\"Eldest employee:\",max(li))"
      ],
      "metadata": {
        "colab": {
          "base_uri": "https://localhost:8080/"
        },
        "id": "kPHEm097UcAZ",
        "outputId": "fda76601-42ea-4804-b908-4016e1e3c842"
      },
      "execution_count": 45,
      "outputs": [
        {
          "output_type": "stream",
          "name": "stdout",
          "text": [
            "Enter the salary: 3\n",
            "Enter the year of service: 2\n",
            "No net bonus\n",
            "Enter the 3 employees age:\n",
            "4\n",
            "5\n",
            "3\n",
            "Youngest employee: 3\n",
            "Eldest employee: 5\n"
          ]
        }
      ]
    },
    {
      "cell_type": "markdown",
      "source": [
        "16) WAPP to convert a quantity in meter entered through keyboard into its equivalent kilometre and meter as per the following format. \n",
        "Example. 2430 meter = 2 Km and 430 meter. \n"
      ],
      "metadata": {
        "id": "ZDygCbkwXusJ"
      }
    },
    {
      "cell_type": "code",
      "source": [
        "d=(int)(input(\"Enter in metres \"))\n",
        "km=d//1000\n",
        "m=d%1000\n",
        "print(d,\"metres=\",km,\"Kilometres\",m,\"metres\")\n"
      ],
      "metadata": {
        "colab": {
          "base_uri": "https://localhost:8080/"
        },
        "id": "7aOBWbEnXzTA",
        "outputId": "6c561dd7-675a-4132-f1c9-d0308349419b"
      },
      "execution_count": 46,
      "outputs": [
        {
          "output_type": "stream",
          "name": "stdout",
          "text": [
            "Enter in metres 2430\n",
            "2430 metrs= 2 Kilometres 430 metres\n"
          ]
        }
      ]
    },
    {
      "cell_type": "markdown",
      "source": [
        "17)WAPP to print the sum of all prime numbers between 1 to n using a loop"
      ],
      "metadata": {
        "id": "XuihQz3LYRS_"
      }
    },
    {
      "cell_type": "code",
      "source": [
        "n=(int)(input(\"Enter the number:\"))\n",
        "k=0\n",
        "for i in range(2,n+1):\n",
        "  c=0\n",
        "  for j in range (1,i+1):\n",
        "    if i%j==0:\n",
        "      c+=1\n",
        "  if c==2:\n",
        "      k+=i\n",
        "print(\"Prime Numbers: \",k)"
      ],
      "metadata": {
        "colab": {
          "base_uri": "https://localhost:8080/"
        },
        "id": "payL51UPYYW3",
        "outputId": "e99f1417-5ad6-4c07-d76f-8a974f197dce"
      },
      "execution_count": 49,
      "outputs": [
        {
          "output_type": "stream",
          "name": "stdout",
          "text": [
            "Enter the number:5\n",
            "Prime Numbers:  10\n"
          ]
        }
      ]
    },
    {
      "cell_type": "markdown",
      "source": [
        "18)WAPP to display the reverse of a number entered through the keyboard. "
      ],
      "metadata": {
        "id": "I487eVNVbIoj"
      }
    },
    {
      "cell_type": "code",
      "source": [
        "n=input(\"Enter the number :\")\n",
        "r=''\n",
        "for i in range(len(n), 0, -1):\n",
        "  r+= n[i-1]\n",
        "print(int(r))"
      ],
      "metadata": {
        "colab": {
          "base_uri": "https://localhost:8080/"
        },
        "id": "aUqUpl0LbNfR",
        "outputId": "dbbaa410-6f73-4a21-ee44-64f8231e50ce"
      },
      "execution_count": 51,
      "outputs": [
        {
          "output_type": "stream",
          "name": "stdout",
          "text": [
            "Enter the number :234\n",
            "432\n"
          ]
        }
      ]
    },
    {
      "cell_type": "markdown",
      "source": [
        "19) WAPP to convert a decimal number into its equivalent number\n",
        "with base b.Decimal number and b are the user input."
      ],
      "metadata": {
        "id": "XrUf_ISRblUX"
      }
    },
    {
      "cell_type": "code",
      "source": [
        "n=(int)(input(\"Enter the decimal: \"))\n",
        "b=(int)(input(\"Enter the base: \"))\n",
        "res = \"\" \n",
        "while (n > 0):\n",
        "  a=n%b\n",
        "  if (a >= 0 and a <= 9):\n",
        "   s=chr(a+48)\n",
        "  else:\n",
        "   s= chr(a - 10 + 65)\n",
        "  res += s\n",
        "  n //= b\n",
        "res = res[::-1]\n",
        "print(res)"
      ],
      "metadata": {
        "colab": {
          "base_uri": "https://localhost:8080/"
        },
        "id": "f03CnAhnbkVf",
        "outputId": "c3f2b10f-93ee-45ff-a864-4f2066cc5d6a"
      },
      "execution_count": 52,
      "outputs": [
        {
          "output_type": "stream",
          "name": "stdout",
          "text": [
            "Enter the decimal: 10\n",
            "Enter the base: 2\n",
            "1010\n"
          ]
        }
      ]
    },
    {
      "cell_type": "markdown",
      "source": [
        "20) WAPP to sum the following series S=1+(1+2)+(1+2+3)+...+(1+2+3+...+n)"
      ],
      "metadata": {
        "id": "dgMq-rEgcI3R"
      }
    },
    {
      "cell_type": "code",
      "source": [
        "n=(int)(input(\"Enter the number: \"))\n",
        "sum=0\n",
        "for i in range(1,n+1):\n",
        "  s=0\n",
        "  for j in range(1,i+1):\n",
        "    s=s+j\n",
        "  sum=s+sum\n",
        "print(\"Sum of the series :\",sum)"
      ],
      "metadata": {
        "colab": {
          "base_uri": "https://localhost:8080/"
        },
        "id": "hWnxF6jRcObU",
        "outputId": "4c5f214d-415d-4c5f-b33f-2c8ac671d321"
      },
      "execution_count": 53,
      "outputs": [
        {
          "output_type": "stream",
          "name": "stdout",
          "text": [
            "Enter the number: 3\n",
            "Sum of the series : 10\n"
          ]
        }
      ]
    }
  ]
}