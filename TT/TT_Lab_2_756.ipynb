{
  "nbformat": 4,
  "nbformat_minor": 0,
  "metadata": {
    "colab": {
      "name": "TT_Lab_2_756.ipynb",
      "provenance": [],
      "collapsed_sections": []
    },
    "kernelspec": {
      "name": "python3",
      "display_name": "Python 3"
    },
    "language_info": {
      "name": "python"
    }
  },
  "cells": [
    {
      "cell_type": "markdown",
      "source": [
        "Name- Mohona Das<br>\n",
        "Roll No-1905756<br>\n",
        "TT_LAB_2<br>\n",
        "<hr>"
      ],
      "metadata": {
        "id": "1joFOEoWyjdM"
      }
    },
    {
      "cell_type": "markdown",
      "source": [
        "##STRING"
      ],
      "metadata": {
        "id": "6_JncdtJ9XyG"
      }
    },
    {
      "cell_type": "markdown",
      "source": [
        "1) Write a Python Program to count the number of vowels in a string."
      ],
      "metadata": {
        "id": "65N8po5dN7VM"
      }
    },
    {
      "cell_type": "code",
      "execution_count": null,
      "metadata": {
        "colab": {
          "base_uri": "https://localhost:8080/"
        },
        "id": "dwge8VWVNVhQ",
        "outputId": "e47900a8-9f53-4a2e-fdba-936c26ba47a0"
      },
      "outputs": [
        {
          "output_type": "stream",
          "name": "stdout",
          "text": [
            "Enter String qwertyuio\n",
            "Count of vowels 4\n"
          ]
        }
      ],
      "source": [
        "a=input(\"Enter String \")\n",
        "c=0\n",
        "for i in range(len(a)):\n",
        "  if a[i]=='a' or a[i]=='e' or a[i]=='i' or a[i]=='o' or a[i]=='u':\n",
        "    c+=1\n",
        "print(\"Count of vowels\",c)"
      ]
    },
    {
      "cell_type": "markdown",
      "source": [
        "2) Write a Python Program to replace all occurrences of ‘a’ with ‘@’ in a string. "
      ],
      "metadata": {
        "id": "rZj7Z7-rO7wE"
      }
    },
    {
      "cell_type": "code",
      "source": [
        "s=input(\"Enter String \")\n",
        "s1=s.replace('a','@')\n",
        "print(s1)\n"
      ],
      "metadata": {
        "colab": {
          "base_uri": "https://localhost:8080/"
        },
        "id": "LuqUUmMINj82",
        "outputId": "2a943188-09b8-489e-f3d1-a1a3d7ed1edc"
      },
      "execution_count": null,
      "outputs": [
        {
          "output_type": "stream",
          "name": "stdout",
          "text": [
            "Enter String qwertyabfa\n",
            "qwerty@bf@\n"
          ]
        }
      ]
    },
    {
      "cell_type": "markdown",
      "source": [
        "3) Write a Python Program to calculate the length of a string without using a library function. "
      ],
      "metadata": {
        "id": "hdI9weWlPteK"
      }
    },
    {
      "cell_type": "code",
      "source": [
        "s=input(\"Enter String \")\n",
        "c=0\n",
        "for i in s:\n",
        "  c+=1\n",
        "print(\"Length:\",c)"
      ],
      "metadata": {
        "colab": {
          "base_uri": "https://localhost:8080/"
        },
        "id": "KZQxcHuZPzXe",
        "outputId": "9a474b13-c827-49cb-ae9e-b74443f8fad5"
      },
      "execution_count": null,
      "outputs": [
        {
          "output_type": "stream",
          "name": "stdout",
          "text": [
            "Enter String qwerty\n",
            "Length: 6\n"
          ]
        }
      ]
    },
    {
      "cell_type": "markdown",
      "source": [
        "4) Write a Python Program to take in two strings and display the smallest string without using the library function. "
      ],
      "metadata": {
        "id": "LX5p1e3iQNwf"
      }
    },
    {
      "cell_type": "code",
      "source": [
        "s1=input(\"Enter String \")\n",
        "s2=input(\"Enter String \")\n",
        "l1=l2=0\n",
        "for i in s1:\n",
        "  l1+=1\n",
        "for i in s2:\n",
        "  l2+=1\n",
        "if l1>l2 :\n",
        "  print(s2)\n",
        "else:\n",
        "  print(s1)\n",
        "        \n"
      ],
      "metadata": {
        "colab": {
          "base_uri": "https://localhost:8080/"
        },
        "id": "6Lu5wqfNQSG5",
        "outputId": "283c4dfb-294f-46ff-fdcd-8e6b1417cf1e"
      },
      "execution_count": null,
      "outputs": [
        {
          "output_type": "stream",
          "name": "stdout",
          "text": [
            "Enter String awer\n",
            "Enter String y\n",
            "y\n"
          ]
        }
      ]
    },
    {
      "cell_type": "markdown",
      "source": [
        "5) Write a Python Program to count the number of lowercase and uppercase letters in a string. "
      ],
      "metadata": {
        "id": "7SXBvsCbQ6GR"
      }
    },
    {
      "cell_type": "code",
      "source": [
        "a=input(\"Enter String \")\n",
        "l,u=0,0\n",
        "for i in a:\n",
        "  if i.islower():\n",
        "    l+=1\n",
        "  if i.isupper():\n",
        "    u+=1\n",
        "print(\"No o lower case \",l)\n",
        "print(\"No of upper case \",u)"
      ],
      "metadata": {
        "colab": {
          "base_uri": "https://localhost:8080/"
        },
        "id": "T0p7aJ2l3uyR",
        "outputId": "8f125d0d-4c6a-4336-ce14-f2838ca4ccfb"
      },
      "execution_count": null,
      "outputs": [
        {
          "output_type": "stream",
          "name": "stdout",
          "text": [
            "Enter String ghKL\n",
            "No o lower case  2\n",
            "No of upper case  2\n"
          ]
        }
      ]
    },
    {
      "cell_type": "markdown",
      "source": [
        "6) Write a Python Program to count the number of digits and characters in a string. "
      ],
      "metadata": {
        "id": "j1gA_p145iAN"
      }
    },
    {
      "cell_type": "code",
      "source": [
        "s=input(\"Enter a string \")\n",
        "a=d=0\n",
        "for i in s:\n",
        "  if i.isdigit()==True:\n",
        "    d+=1\n",
        "  elif i.isalpha()==True:\n",
        "   a+=1\n",
        "print(f\"No of digit : {d}\")\n",
        "print(f\"No of Character : {a}\")"
      ],
      "metadata": {
        "colab": {
          "base_uri": "https://localhost:8080/"
        },
        "id": "oH0UpfyH57Iu",
        "outputId": "bc6a2a40-75f8-47cc-aa68-f23f7fa51f88"
      },
      "execution_count": null,
      "outputs": [
        {
          "output_type": "stream",
          "name": "stdout",
          "text": [
            "Enter a string qw45\n",
            "No of digit : 2\n",
            "No of Character : 2\n"
          ]
        }
      ]
    },
    {
      "cell_type": "markdown",
      "source": [
        "7) Write a Python program to get a string made of the first 3 and the last 3 chars "
      ],
      "metadata": {
        "id": "S_efZWS46ao_"
      }
    },
    {
      "cell_type": "code",
      "source": [
        "s=input(\"Enter a string \")\n",
        "if len(s)>=3:\n",
        "  s1=s[0:3]+s[len(s)-3:]\n",
        "  print(s1)\n",
        "else :\n",
        "  s2=str()\n",
        "  print(s2)"
      ],
      "metadata": {
        "colab": {
          "base_uri": "https://localhost:8080/"
        },
        "id": "lYQzOw836et3",
        "outputId": "59fba0b7-1186-4c96-ed90-4b4a9022280f"
      },
      "execution_count": null,
      "outputs": [
        {
          "output_type": "stream",
          "name": "stdout",
          "text": [
            "Enter a string 4\n",
            "\n"
          ]
        }
      ]
    },
    {
      "cell_type": "markdown",
      "source": [
        "8) Write a Python program to count the occurrences of each word in a given string sentence. "
      ],
      "metadata": {
        "id": "0GiVt9-w69P4"
      }
    },
    {
      "cell_type": "code",
      "source": [
        "s=input(\"Enter a string : \")\n",
        "c=dict()\n",
        "w=s.split()\n",
        "for i in w:\n",
        "  if i in c:\n",
        "    c[i]+=1\n",
        "  else:\n",
        "    c[i]=1\n",
        "print(c)"
      ],
      "metadata": {
        "colab": {
          "base_uri": "https://localhost:8080/"
        },
        "id": "8J4ZmSTm7wHD",
        "outputId": "5a9646f1-c5b8-4865-8f65-5319d4553fd8"
      },
      "execution_count": null,
      "outputs": [
        {
          "output_type": "stream",
          "name": "stdout",
          "text": [
            "Enter a string : the cat is a good cat\n",
            "{'the': 1, 'cat': 2, 'is': 1, 'a': 1, 'good': 1}\n"
          ]
        }
      ]
    },
    {
      "cell_type": "markdown",
      "source": [
        "9) Write a Python program to check if a string is Palindrome or not."
      ],
      "metadata": {
        "id": "wk0tvsoc8QST"
      }
    },
    {
      "cell_type": "code",
      "source": [
        "s = input(\"Enter the string \")\n",
        "s1=s[::-1]\n",
        "if s==s1:\n",
        "  print(\"Palindrome\")\n",
        "else:\n",
        "  print(\"Not Palindrome\")"
      ],
      "metadata": {
        "colab": {
          "base_uri": "https://localhost:8080/"
        },
        "id": "1c5bn3bQ8Vzy",
        "outputId": "866b700d-6e24-45e8-b767-7e41c6ef98aa"
      },
      "execution_count": null,
      "outputs": [
        {
          "output_type": "stream",
          "name": "stdout",
          "text": [
            "Enter the string wer\n",
            "Not Palindrome\n"
          ]
        }
      ]
    },
    {
      "cell_type": "markdown",
      "source": [
        " 10)Write a Python program to reverse a string. "
      ],
      "metadata": {
        "id": "LCjd3HLF8VBQ"
      }
    },
    {
      "cell_type": "code",
      "source": [
        "s = input(\"Enter the string \")\n",
        "s1=s[::-1]\n",
        "print(s1)\n"
      ],
      "metadata": {
        "colab": {
          "base_uri": "https://localhost:8080/"
        },
        "id": "nknxnNer8nZJ",
        "outputId": "d2f2c20b-5d2c-44c9-f03a-52705978360a"
      },
      "execution_count": null,
      "outputs": [
        {
          "output_type": "stream",
          "name": "stdout",
          "text": [
            "Enter the string hello\n",
            "olleh\n"
          ]
        }
      ]
    },
    {
      "cell_type": "markdown",
      "source": [
        "<hr>\n",
        "\n",
        "##LISTS\n",
        "<hr>"
      ],
      "metadata": {
        "id": "1_AvfLpf9eOC"
      }
    },
    {
      "cell_type": "markdown",
      "source": [
        "1) Write a Python Program to find the print sum, average of all numbers, smallest and largest element of a list. "
      ],
      "metadata": {
        "id": "HhgsC-yW9ufd"
      }
    },
    {
      "cell_type": "code",
      "source": [
        "l1=list()\n",
        "n = int(input (\"Enter the number of elements:\"))\n",
        "for i in range(n):\n",
        "    ele = int (input (\"Enter the element: \"))\n",
        "    l1.append(ele)\n",
        "largest  = max(l1)\n",
        "smallest = min(l1)\n",
        "average = sum(l1) / len(l1)\n",
        "print(\"Largest \",largest)\n",
        "print(\"Smallest \",smallest)\n",
        "print(\"Average \",average)\n",
        "print(\"Sum \",sum(l1))"
      ],
      "metadata": {
        "colab": {
          "base_uri": "https://localhost:8080/"
        },
        "id": "K93n2EZ1IttJ",
        "outputId": "ce409607-8302-4ead-9ff5-a96350aa16e5"
      },
      "execution_count": null,
      "outputs": [
        {
          "output_type": "stream",
          "name": "stdout",
          "text": [
            "Enter the number of elements:4\n",
            "Enter the element: 2\n",
            "Enter the element: 4\n",
            "Enter the element: 5\n",
            "Enter the element: 6\n",
            "Largest  6\n",
            "Smallest  2\n",
            "Average  4.25\n",
            "Sum  17\n"
          ]
        }
      ]
    },
    {
      "cell_type": "markdown",
      "source": [
        "2) Write a Python Program to find the 2ndlargest and 3rdsmallest number in a list. "
      ],
      "metadata": {
        "id": "KaxkERnBJsu-"
      }
    },
    {
      "cell_type": "code",
      "source": [
        "l1=list()\n",
        "n = int(input (\"Enter the number of elements:\"))\n",
        "for i in range(n):\n",
        "    ele = int (input (\"Enter the element: \"))\n",
        "    l1.append(ele)\n",
        "l1.sort()\n",
        "print(\"3rd smallest:\",l1[2])\n",
        "print(\"2nd largest:\",l1[n-2])"
      ],
      "metadata": {
        "colab": {
          "base_uri": "https://localhost:8080/"
        },
        "id": "QD0NP82SJxSX",
        "outputId": "0937176e-d1ee-4d25-820c-01ced2bc558a"
      },
      "execution_count": null,
      "outputs": [
        {
          "output_type": "stream",
          "name": "stdout",
          "text": [
            "Enter the number of elements:4\n",
            "Enter the element: 3\n",
            "Enter the element: 2\n",
            "Enter the element: 5\n",
            "Enter the element: 6\n",
            "3rd smallest: 5\n",
            "2nd largest: 5\n"
          ]
        }
      ]
    },
    {
      "cell_type": "markdown",
      "source": [
        "3) Write a Python Program to generate random numbers from 1 to 50 and append them to the list. "
      ],
      "metadata": {
        "id": "hidurm_VLTk3"
      }
    },
    {
      "cell_type": "code",
      "source": [
        "import random\n",
        "l1=list()\n",
        "n = int(input (\"Enter the number of elements:\"))\n",
        "for i in range(n):\n",
        "    x=random.randrange(1, 51)#1-50\n",
        "    l1.append(x)\n",
        "print(l1)\n"
      ],
      "metadata": {
        "colab": {
          "base_uri": "https://localhost:8080/"
        },
        "id": "a3c6y2-bLW71",
        "outputId": "3f562008-ff07-4d1e-9d18-54ab12298997"
      },
      "execution_count": null,
      "outputs": [
        {
          "output_type": "stream",
          "name": "stdout",
          "text": [
            "Enter the number of elements:5\n",
            "[1, 14, 37, 37, 9]\n"
          ]
        }
      ]
    },
    {
      "cell_type": "markdown",
      "source": [
        "4) Write a Python Program to put even and odd elements in a list into two different lists. "
      ],
      "metadata": {
        "id": "G5MKjjazMa0x"
      }
    },
    {
      "cell_type": "code",
      "source": [
        "l1=list()\n",
        "n = int(input (\"Enter the number of elements:\"))\n",
        "for i in range(n):\n",
        "    ele = int (input (\"Enter the element: \"))\n",
        "    l1.append(ele)\n",
        "l2=[x for x in l1 if (x%2)==0]\n",
        "l3=[x for x in l1 if(x%2)!=0]\n",
        "print(\"Even list\",l2)\n",
        "print(\"Odd list\",l3)\n"
      ],
      "metadata": {
        "colab": {
          "base_uri": "https://localhost:8080/"
        },
        "id": "6REK6GjxMeuM",
        "outputId": "3aea919b-8f4e-4471-b678-114148a3e9f1"
      },
      "execution_count": null,
      "outputs": [
        {
          "output_type": "stream",
          "name": "stdout",
          "text": [
            "Enter the number of elements:6\n",
            "Enter the element: 3\n",
            "Enter the element: 4\n",
            "Enter the element: 2\n",
            "Enter the element: 78\n",
            "Enter the element: 5\n",
            "Enter the element: 1\n",
            "Even list [4, 2, 78]\n",
            "Odd list [3, 5, 1]\n"
          ]
        }
      ]
    },
    {
      "cell_type": "markdown",
      "source": [
        "5) Write a Python Program to merge two lists and sort it. "
      ],
      "metadata": {
        "id": "UPoXhO6MNNrS"
      }
    },
    {
      "cell_type": "code",
      "source": [
        "l1=list()\n",
        "n = int(input (\"Enter the number of elements:\"))\n",
        "for i in range(n):\n",
        "    ele = int (input (\"Enter the element: \"))\n",
        "    l1.append(ele)\n",
        "l2=list()\n",
        "n2= int(input (\"Enter the number of elements:\"))\n",
        "for i in range(n2):\n",
        "    ele2 = int (input (\"Enter the element: \"))\n",
        "    l2.append(ele2)\n",
        "l3=l1+l2\n",
        "l3.sort()\n",
        "print(l1)\n",
        "print(l2)\n",
        "print(l3)"
      ],
      "metadata": {
        "colab": {
          "base_uri": "https://localhost:8080/"
        },
        "id": "lk5G_WrmNO9C",
        "outputId": "5edf1b33-df1d-4962-f522-014af86f9422"
      },
      "execution_count": null,
      "outputs": [
        {
          "output_type": "stream",
          "name": "stdout",
          "text": [
            "Enter the number of elements:4\n",
            "Enter the element: 1\n",
            "Enter the element: 4\n",
            "Enter the element: 6\n",
            "Enter the element: 2\n",
            "Enter the number of elements:3\n",
            "Enter the element: 3\n",
            "Enter the element: 2\n",
            "Enter the element: 7\n",
            "[1, 4, 6, 2]\n",
            "[3, 2, 7]\n",
            "[1, 2, 2, 3, 4, 6, 7]\n"
          ]
        }
      ]
    },
    {
      "cell_type": "markdown",
      "source": [
        "6) Write a Python Program to remove the duplicate items from a list."
      ],
      "metadata": {
        "id": "sjBHpIyuNybv"
      }
    },
    {
      "cell_type": "code",
      "source": [
        "l1=list()\n",
        "n = int(input (\"Enter the number of elements:\"))\n",
        "for i in range(n):\n",
        "    ele = int (input (\"Enter the element: \"))\n",
        "    l1.append(ele)\n",
        "s=set(l1)\n",
        "l1=list(s)\n",
        "print(s)\n"
      ],
      "metadata": {
        "colab": {
          "base_uri": "https://localhost:8080/"
        },
        "id": "dql0__s8N16n",
        "outputId": "f15b3a46-81d5-4172-b5f9-295a4daafd7e"
      },
      "execution_count": null,
      "outputs": [
        {
          "output_type": "stream",
          "name": "stdout",
          "text": [
            "Enter the number of elements:5\n",
            "Enter the element: 2\n",
            "Enter the element: 4\n",
            "Enter the element: 2\n",
            "Enter the element: 2\n",
            "Enter the element: 4\n",
            "{2, 4}\n"
          ]
        }
      ]
    },
    {
      "cell_type": "markdown",
      "source": [
        "7) Write a Python Program to take a list of words and print the length of the longest word. "
      ],
      "metadata": {
        "id": "4JX4flFoOM8s"
      }
    },
    {
      "cell_type": "code",
      "source": [
        "s=input(\"Enter a string : \")\n",
        "max=0\n",
        "l1=[]\n",
        "w=s.split()\n",
        "for i in w:\n",
        "  if len(i)>max:\n",
        "    max=len(i)\n",
        "print(max)\n"
      ],
      "metadata": {
        "colab": {
          "base_uri": "https://localhost:8080/"
        },
        "id": "vhjunXyNOR57",
        "outputId": "bc6de583-ce57-4909-8066-e98907030ffe"
      },
      "execution_count": null,
      "outputs": [
        {
          "output_type": "stream",
          "name": "stdout",
          "text": [
            "Enter a string : hello world is so great i am grateful\n",
            "8\n"
          ]
        }
      ]
    },
    {
      "cell_type": "markdown",
      "source": [
        "8) Write a Python program to count the number of strings where the string length is 3 or more and the first and last character are same from a given list of strings. \n",
        "Input : ['ab', 'aba', 'abaa', 'baba'] \n",
        "Output : 2 \n"
      ],
      "metadata": {
        "id": "xVv-ZhC6PWaQ"
      }
    },
    {
      "cell_type": "code",
      "source": [
        "l1=list()\n",
        "n = int(input (\"Enter the number of elements:\"))\n",
        "for i in range(n):\n",
        "    ele = (input (\"Enter the element: \"))\n",
        "    l1.append(ele)\n",
        "for x in l1:\n",
        "  if len(x)>=3 and x[0]==x[len(x)-1] :\n",
        "    print(x)\n",
        "\n",
        "\n"
      ],
      "metadata": {
        "id": "brMXzKEw3h-B",
        "colab": {
          "base_uri": "https://localhost:8080/"
        },
        "outputId": "ead079a0-13ab-4dbb-da49-a50b054e37c2"
      },
      "execution_count": null,
      "outputs": [
        {
          "output_type": "stream",
          "name": "stdout",
          "text": [
            "Enter the number of elements:5\n",
            "Enter the element: qwert\n",
            "Enter the element: aba\n",
            "Enter the element: tuipt\n",
            "Enter the element: rr\n",
            "Enter the element: ere\n",
            "aba\n",
            "tuipt\n",
            "ere\n"
          ]
        }
      ]
    },
    {
      "cell_type": "markdown",
      "source": [
        "9) Write a Python program to check a list is empty or not. "
      ],
      "metadata": {
        "id": "yh2FUB4-PcCI"
      }
    },
    {
      "cell_type": "code",
      "source": [
        "l1=list()\n",
        "n = int(input (\"Enter the number of elements:\"))\n",
        "for i in range(n):\n",
        "    ele = int (input (\"Enter the element: \"))\n",
        "    l1.append(ele)\n",
        "l2 = []\n",
        "if l1==l2:\n",
        "    print(\"list is empty\")\n",
        "else:\n",
        "    print(\"list is not empty\")\n",
        "#0 -> empty"
      ],
      "metadata": {
        "colab": {
          "base_uri": "https://localhost:8080/"
        },
        "id": "kOvoSyjpQCzn",
        "outputId": "b27b0a84-da39-4659-b28d-c2f61652d4eb"
      },
      "execution_count": null,
      "outputs": [
        {
          "output_type": "stream",
          "name": "stdout",
          "text": [
            "Enter the number of elements:0\n",
            "list is empty\n"
          ]
        }
      ]
    },
    {
      "cell_type": "markdown",
      "source": [
        "10) Write a Python program to take both strings and numbers in a list \n",
        "a)create separate lists of strings and numbers. \n",
        "b)Sort the strings list in ascending order \n",
        "c)Sort the strings list in descending order \n",
        "d)Sort the number list from lowest to highest \n",
        "e)Sort the number list from highest to lowest \n"
      ],
      "metadata": {
        "id": "OBcryYwbBCF-"
      }
    },
    {
      "cell_type": "code",
      "source": [
        "l1=list()\n",
        "ln=list()\n",
        "ls=list()\n",
        "n = int(input (\"Enter the number of elements:\"))\n",
        "for i in range(n):\n",
        "    ele =(input (\"Enter the element: \"))\n",
        "    l1.append(ele)\n",
        "for i in l1:\n",
        "  if (i).isalpha():\n",
        "    ls.append(i)\n",
        "  else:\n",
        "    ln.append((int)(i))\n",
        "print(\"Original list: \" ,l1)\n",
        "print(\"list of strings\",ls)\n",
        "print(\"List of nos \",ln)\n",
        "\n",
        "ls.sort()\n",
        "print(\"In Lexical Order\",ls)\n",
        "\n",
        "ls.sort(reverse=True)\n",
        "print(\"In Reverse Lexical Order\",ls)\n",
        "\n",
        "ln.sort()\n",
        "print(\"In Ascending Order\",ln)\n",
        "\n",
        "ln.sort(reverse=True)\n",
        "print(\"In Descending Order\",ln)\n",
        "    "
      ],
      "metadata": {
        "colab": {
          "base_uri": "https://localhost:8080/"
        },
        "id": "xhzkpgUHBErW",
        "outputId": "c9865192-a475-43f7-d806-c7341463ae03"
      },
      "execution_count": null,
      "outputs": [
        {
          "output_type": "stream",
          "name": "stdout",
          "text": [
            "Enter the number of elements:6\n",
            "Enter the element: a\n",
            "Enter the element: 3\n",
            "Enter the element: g\n",
            "Enter the element: 7\n",
            "Enter the element: 4\n",
            "Enter the element: d\n",
            "Original list:  ['a', '3', 'g', '7', '4', 'd']\n",
            "list of strings ['a', 'g', 'd']\n",
            "List of nos  [3, 7, 4]\n",
            "In Lexical Order ['a', 'd', 'g']\n",
            "In Reverse Lexical Order ['g', 'd', 'a']\n",
            "In Ascending Order [3, 4, 7]\n",
            "In Descending Order [7, 4, 3]\n"
          ]
        }
      ]
    },
    {
      "cell_type": "markdown",
      "source": [
        "11) Write a program to add two lists index-wise. Create a new list that contains the 0th index item from both the list, then the 1st index item, and so on till the last element. any leftover items will get added at the end of the new list. "
      ],
      "metadata": {
        "id": "6BeRS8i2HP39"
      }
    },
    {
      "cell_type": "code",
      "source": [
        "lst=[]\n",
        "lst1=[1,2,3,4,5,6,7]\n",
        "lst2=[3,4,5,6,7,8,9,0,1,2,3]\n",
        "i=0\n",
        "j=0\n",
        "while i<len(lst1) and j<len(lst2):\n",
        "  lst.append(lst1[i]+lst2[j])\n",
        "  i+=1\n",
        "  j+=1\n",
        "while i<len(lst1):\n",
        "  lst.append(lst1[i])\n",
        "  i+=1\n",
        "while j<len(lst2):\n",
        "  lst.append(lst2[j])\n",
        "  j+=1\n",
        "print(lst)"
      ],
      "metadata": {
        "id": "xzNA46rTVOuQ",
        "colab": {
          "base_uri": "https://localhost:8080/",
          "height": 0
        },
        "outputId": "0cd7d5bf-0c31-4428-9622-4ae465bac126"
      },
      "execution_count": 1,
      "outputs": [
        {
          "output_type": "stream",
          "name": "stdout",
          "text": [
            "[4, 6, 8, 10, 12, 14, 16, 0, 1, 2, 3]\n"
          ]
        }
      ]
    },
    {
      "cell_type": "markdown",
      "source": [
        "12)Given a Python list, write a program to remove all occurrences of item 20. \n",
        "Given: \n",
        "list1 = [5, 20, 15, 20, 25, 50, 20] "
      ],
      "metadata": {
        "id": "9g2_p_5O3lU7"
      }
    },
    {
      "cell_type": "code",
      "source": [
        "l1=list()\n",
        "n = int(input (\"Enter the number of elements: \"))\n",
        "for i in range(n):\n",
        "    ele = int(input (\"Enter the element: \"))\n",
        "    l1.append(ele)\n",
        "val=int(input(\"Enter the value to remove: \"))\n",
        "l=list()\n",
        "l=[i for i in l1 if i != val]\n",
        "print(l)   \n",
        " "
      ],
      "metadata": {
        "colab": {
          "base_uri": "https://localhost:8080/"
        },
        "id": "mPYX1znw4R1A",
        "outputId": "9723b805-53c3-4a0c-bc46-4a6394602638"
      },
      "execution_count": null,
      "outputs": [
        {
          "output_type": "stream",
          "name": "stdout",
          "text": [
            "Enter the number of elements: 5\n",
            "Enter the element: 2\n",
            "Enter the element: 6\n",
            "Enter the element: 3\n",
            "Enter the element: 2\n",
            "Enter the element: 4\n",
            "Enter the value to remove: 2\n",
            "[6, 3, 4]\n"
          ]
        }
      ]
    },
    {
      "cell_type": "markdown",
      "source": [
        "<hr>\n",
        "\n",
        "##TUPLES & SETS\n",
        "<hr>"
      ],
      "metadata": {
        "id": "OqKRx3F9NXC6"
      }
    },
    {
      "cell_type": "markdown",
      "source": [
        "1. Write a Python program to convert a tuple to a string..\n"
      ],
      "metadata": {
        "id": "jnXZlkG2Nh8Z"
      }
    },
    {
      "cell_type": "code",
      "source": [
        "t1=(5,7,2.0,7j,'j')\n",
        "s=''\n",
        "for i in t1:\n",
        "  s=s+str(i)\n",
        "print(s)"
      ],
      "metadata": {
        "colab": {
          "base_uri": "https://localhost:8080/"
        },
        "id": "gFfIWHmrNgq1",
        "outputId": "f5b374ff-4a47-4382-dde7-9de522554ca7"
      },
      "execution_count": null,
      "outputs": [
        {
          "output_type": "stream",
          "name": "stdout",
          "text": [
            "572.07jj\n"
          ]
        }
      ]
    },
    {
      "cell_type": "markdown",
      "source": [
        "2. Write a Python program to find the repeated items of a tuple \n"
      ],
      "metadata": {
        "id": "18X_HsauPEUQ"
      }
    },
    {
      "cell_type": "code",
      "source": [
        "l1=list()\n",
        "n = int(input (\"Enter the number of elements: \"))\n",
        "for i in range(n):\n",
        "    ele =(input (\"Enter the element: \"))\n",
        "    l1.append(ele)\n",
        "c=0\n",
        "l=list()\n",
        "t1=tuple(l1)\n",
        "for i in t1:\n",
        "  c=t1.count(i)\n",
        "  if c>1 :\n",
        "    if i not in l:\n",
        "      l.append(i)\n",
        "print(l)"
      ],
      "metadata": {
        "colab": {
          "base_uri": "https://localhost:8080/"
        },
        "id": "MgEXKWoRPIc7",
        "outputId": "0c640e3e-0423-46e1-ac39-41b7b5a48e36"
      },
      "execution_count": null,
      "outputs": [
        {
          "output_type": "stream",
          "name": "stdout",
          "text": [
            "Enter the number of elements: 4\n",
            "Enter the element: a\n",
            "Enter the element: g\n",
            "Enter the element: e\n",
            "Enter the element: a\n",
            "['a']\n"
          ]
        }
      ]
    },
    {
      "cell_type": "markdown",
      "source": [
        "3. Write a Python program to convert a list to a tuple.. \n",
        "\n"
      ],
      "metadata": {
        "id": "cVTbLsIzQKAE"
      }
    },
    {
      "cell_type": "code",
      "source": [
        "l1=list()\n",
        "n = int(input (\"Enter the number of elements: \"))\n",
        "for i in range(n):\n",
        "    ele = int(input (\"Enter the element: \"))\n",
        "    l1.append(ele)\n",
        "t1=tuple(l1)\n",
        "print(t1,type(t1))\n"
      ],
      "metadata": {
        "colab": {
          "base_uri": "https://localhost:8080/"
        },
        "id": "PDjJZ_pSQTNF",
        "outputId": "b124fbe1-7ab7-4abc-c54b-934d915c2184"
      },
      "execution_count": null,
      "outputs": [
        {
          "output_type": "stream",
          "name": "stdout",
          "text": [
            "Enter the number of elements: 5\n",
            "Enter the element: 2\n",
            "Enter the element: 4\n",
            "Enter the element: 5\n",
            "Enter the element: 1\n",
            "Enter the element: 8\n",
            "(2, 4, 5, 1, 8)\n"
          ]
        }
      ]
    },
    {
      "cell_type": "markdown",
      "source": [
        "4. Write a Python program to reverse a tuple. "
      ],
      "metadata": {
        "id": "RiKvxlYfQSbC"
      }
    },
    {
      "cell_type": "code",
      "source": [
        "l1=list()\n",
        "n = int(input (\"Enter the number of elements: \"))\n",
        "for i in range(n):\n",
        "    ele =(input (\"Enter the element: \"))\n",
        "    l1.append(ele)\n",
        "t1=tuple(l1)\n",
        "rev_t=t1[::-1]\n",
        "print(rev_t)"
      ],
      "metadata": {
        "colab": {
          "base_uri": "https://localhost:8080/"
        },
        "id": "0g_FRLSTQl3k",
        "outputId": "676a25bd-e9ce-4dbc-b985-8938f1eca51f"
      },
      "execution_count": null,
      "outputs": [
        {
          "output_type": "stream",
          "name": "stdout",
          "text": [
            "Enter the number of elements: 5\n",
            "Enter the element: b\n",
            "Enter the element: g\n",
            "Enter the element: y\n",
            "Enter the element: r\n",
            "Enter the element: e\n",
            "('e', 'r', 'y', 'g', 'b')\n"
          ]
        }
      ]
    },
    {
      "cell_type": "markdown",
      "source": [
        "5. Write a Python program to remove an empty tuple(s) from a list of tuples "
      ],
      "metadata": {
        "id": "lVJbxWkeQ444"
      }
    },
    {
      "cell_type": "code",
      "source": [
        "l=[(), (), ('',), ('a', 'b'), ('a', '9.0', '5'), ('5.4')]\n",
        "l=[t for t in l if t]\n",
        "print(l)"
      ],
      "metadata": {
        "colab": {
          "base_uri": "https://localhost:8080/"
        },
        "id": "Xw7GxXEfRJDu",
        "outputId": "dd236355-b50e-4423-c2cb-9526aea37847"
      },
      "execution_count": null,
      "outputs": [
        {
          "output_type": "stream",
          "name": "stdout",
          "text": [
            "[('',), ('a', 'b'), ('a', '9.0', '5'), '5.4']\n"
          ]
        }
      ]
    },
    {
      "cell_type": "markdown",
      "source": [
        "6. Write a Python program to replace middle value of tuples in a list. "
      ],
      "metadata": {
        "id": "nz1SmpMiRe-m"
      }
    },
    {
      "cell_type": "code",
      "source": [
        "a_list = [(1, 2), (3, 4), (5, 6)]\n",
        "\n",
        "selected_items = [item[1] for item in a_list]\n",
        "print(selected_items)\n"
      ],
      "metadata": {
        "id": "2azNiBKLRjqh",
        "colab": {
          "base_uri": "https://localhost:8080/"
        },
        "outputId": "a0d86858-bc2f-4776-8b42-a824341107f8"
      },
      "execution_count": null,
      "outputs": [
        {
          "output_type": "stream",
          "name": "stdout",
          "text": [
            "[2, 4, 6]\n"
          ]
        }
      ]
    },
    {
      "cell_type": "markdown",
      "source": [
        "7. Write a Python program to get the 5th element and 5th element from last of a tuple. "
      ],
      "metadata": {
        "id": "Oh0ZogsFRuDo"
      }
    },
    {
      "cell_type": "code",
      "source": [
        "t=(1,2,3,4,5,6,7,8,9,10)\n",
        "print(t[4],t[-5])"
      ],
      "metadata": {
        "id": "U7N5Bo2ZRx4K",
        "colab": {
          "base_uri": "https://localhost:8080/"
        },
        "outputId": "9d781e2d-98e3-4e13-db2b-3aa1b9ba7fcf"
      },
      "execution_count": null,
      "outputs": [
        {
          "output_type": "stream",
          "name": "stdout",
          "text": [
            "5 6\n"
          ]
        }
      ]
    },
    {
      "cell_type": "markdown",
      "source": [
        "8. Write a Python program to check if two given sets have no elements in common. "
      ],
      "metadata": {
        "id": "dcc9nUi9RxOW"
      }
    },
    {
      "cell_type": "code",
      "source": [
        "x = {1,2,3,4}\n",
        "y = {4,5,6,7}\n",
        "\n",
        "print(\"Original set elements:\")\n",
        "print(x)\n",
        "print(y)\n",
        "print(\"\\nx and y have in common :\")\n",
        "if not x.isdisjoint(y):\n",
        "  print(\"has same elements: \",x.intersection(y))\n",
        "else:\n",
        "  print(\"Not in common\")\n",
        "  "
      ],
      "metadata": {
        "colab": {
          "base_uri": "https://localhost:8080/"
        },
        "id": "_QLbR5cbM2Ot",
        "outputId": "205bd95d-2833-456b-d6e0-c4786fff9d7c"
      },
      "execution_count": null,
      "outputs": [
        {
          "output_type": "stream",
          "name": "stdout",
          "text": [
            "Original set elements:\n",
            "{1, 2, 3, 4}\n",
            "{4, 5, 6, 7}\n",
            "\n",
            "x and y have in common :\n",
            "has same elements:  {4}\n"
          ]
        }
      ]
    },
    {
      "cell_type": "markdown",
      "source": [
        " 9. Write a Python program to check whether an element exists within a tuple. "
      ],
      "metadata": {
        "id": "V0ibeJFQR04z"
      }
    },
    {
      "cell_type": "code",
      "source": [
        "t=(1,2,'3')\n",
        "#t=()\n",
        "if t:\n",
        "  print(\"present :\",t)\n",
        "else:\n",
        "  print(\"Empty tuple\")"
      ],
      "metadata": {
        "colab": {
          "base_uri": "https://localhost:8080/"
        },
        "id": "2VuIxGmzOPtJ",
        "outputId": "96724e9c-f1e1-4458-a191-f692c8591eae"
      },
      "execution_count": null,
      "outputs": [
        {
          "output_type": "stream",
          "name": "stdout",
          "text": [
            "present : (1, 2, '3')\n"
          ]
        }
      ]
    },
    {
      "cell_type": "markdown",
      "source": [
        "10. Write a Python program to check if a given value is present in a set or not. "
      ],
      "metadata": {
        "id": "rarjvmWrR7zm"
      }
    },
    {
      "cell_type": "code",
      "source": [
        "s={3,4,7,9,5,'c'}\n",
        "v=4\n",
        "if v in s:\n",
        "  print(\"Present\")\n",
        "else: \n",
        "  print(\"Absent\")"
      ],
      "metadata": {
        "colab": {
          "base_uri": "https://localhost:8080/"
        },
        "id": "tYTm1VxSPEoO",
        "outputId": "c7b522f8-f158-4580-a611-feaf251c9bbb"
      },
      "execution_count": null,
      "outputs": [
        {
          "output_type": "stream",
          "name": "stdout",
          "text": [
            "Present\n"
          ]
        }
      ]
    },
    {
      "cell_type": "markdown",
      "source": [
        "11. Write a Python program to check if a given set is superset of itself and superset of another given set. \n"
      ],
      "metadata": {
        "id": "27t1kGutSAa0"
      }
    },
    {
      "cell_type": "code",
      "source": [
        "A = {1, 2, 3, 4, 5}\n",
        "B = {1, 2, 3}\n",
        "print(A,\"\\n\",B)\n",
        "print(\"A is a superset of B:\",A.issuperset(B))\n",
        "print(\"B is a superset of A:\",B.issuperset(A))\n",
        "print(\"B is a superset of  B:\", B.issuperset(B))"
      ],
      "metadata": {
        "colab": {
          "base_uri": "https://localhost:8080/"
        },
        "id": "4GTQjhnaPdEk",
        "outputId": "364ca6e4-0fe6-4e4c-ad47-84d71f9dffcc"
      },
      "execution_count": null,
      "outputs": [
        {
          "output_type": "stream",
          "name": "stdout",
          "text": [
            "{1, 2, 3, 4, 5} \n",
            " {1, 2, 3}\n",
            "A is a superset of B: True\n",
            "B is a superset of A: False\n",
            "B is a superset of  B: True\n"
          ]
        }
      ]
    },
    {
      "cell_type": "markdown",
      "source": [
        "12. Write a Python program to create a union, intersection, difference, symmetric difference of sets. "
      ],
      "metadata": {
        "id": "seIZMLzXSEkS"
      }
    },
    {
      "cell_type": "code",
      "source": [
        "A = {'a', 'b', 'c', 'd'}\n",
        "B = {'c', 'd', 'e' }\n",
        "print(\"Symetric Difference:\",A.symmetric_difference(B))\n",
        "print(\"A intersection B:\",A.intersection(B))\n",
        "print(\" A union B:\",A.union(B))\n",
        "print(\"B-A:\",B.difference(A))\n",
        "print(\"A - B:\",A.difference(B))"
      ],
      "metadata": {
        "colab": {
          "base_uri": "https://localhost:8080/"
        },
        "id": "nhzbr6fcUCU_",
        "outputId": "1dd74277-fb76-47e2-ac89-13686fd4e472"
      },
      "execution_count": null,
      "outputs": [
        {
          "output_type": "stream",
          "name": "stdout",
          "text": [
            "Symetric Difference: {'b', 'a', 'e'}\n",
            "A intersection B: {'c', 'd'}\n",
            " A union B: {'b', 'a', 'c', 'd', 'e'}\n",
            "B-A: {'e'}\n",
            "A - B: {'a', 'b'}\n"
          ]
        }
      ]
    },
    {
      "cell_type": "markdown",
      "source": [
        "13. Write a Python program to remove the intersection of a 2nd set from the 1st set. "
      ],
      "metadata": {
        "id": "mfFP7_kASICv"
      }
    },
    {
      "cell_type": "code",
      "source": [
        "sn1 = {1,2,3,4,5}\n",
        "sn2 = {4,5,6,7,8}\n",
        "print(\"Original sets:\")\n",
        "print(sn1)\n",
        "print(sn2)\n",
        "print(\"\\nRemove the intersection of a 2nd set from the 1st set using difference_update():\")\n",
        "sn1.difference_update(sn2)\n",
        "print(\"sn1: \",sn1)\n",
        "print(\"sn2: \",sn2)\n",
        "sn1 = {1,2,3,4,5}\n",
        "sn2 = {4,5,6,7,8}\n",
        "print(\"\\nRemove the intersection of a 2nd set from the 1st set using -= operator:\")\n",
        "sn1-=sn2\n",
        "print(\"sn1: \",sn1)\n",
        "print(\"sn2: \",sn2)"
      ],
      "metadata": {
        "colab": {
          "base_uri": "https://localhost:8080/"
        },
        "id": "z4_6e4EyU-Ng",
        "outputId": "34400888-dc96-40ff-be0b-325a2d155463"
      },
      "execution_count": null,
      "outputs": [
        {
          "output_type": "stream",
          "name": "stdout",
          "text": [
            "Original sets:\n",
            "{1, 2, 3, 4, 5}\n",
            "{4, 5, 6, 7, 8}\n",
            "\n",
            "Remove the intersection of a 2nd set from the 1st set using difference_update():\n",
            "sn1:  {1, 2, 3}\n",
            "sn2:  {4, 5, 6, 7, 8}\n",
            "\n",
            "Remove the intersection of a 2nd set from the 1st set using -= operator:\n",
            "sn1:  {1, 2, 3}\n",
            "sn2:  {4, 5, 6, 7, 8}\n"
          ]
        }
      ]
    },
    {
      "cell_type": "markdown",
      "source": [
        "<hr>\n",
        "\n",
        "##DICTIONARY\n",
        "<hr>"
      ],
      "metadata": {
        "id": "VvganPeWSMqJ"
      }
    },
    {
      "cell_type": "markdown",
      "source": [
        "1) Write a Python program to multiply all the items in a dictionary."
      ],
      "metadata": {
        "id": "c6EnAd2ESRUV"
      }
    },
    {
      "cell_type": "code",
      "source": [
        "d = {\n",
        "    'value1': 5,\n",
        "    'value2': 4,\n",
        "    'value3': 3,\n",
        "    'value4': 2,\n",
        "    'value5': 1,\n",
        "}\n",
        "answer = 1\n",
        "for i in d:\n",
        "    answer = answer*d[i]\n",
        "print(answer)"
      ],
      "metadata": {
        "colab": {
          "base_uri": "https://localhost:8080/"
        },
        "id": "jqUx3T2xm4A3",
        "outputId": "8bbe9e38-18ff-4eb1-ef23-9fe6b3db3180"
      },
      "execution_count": null,
      "outputs": [
        {
          "output_type": "stream",
          "name": "stdout",
          "text": [
            "120\n"
          ]
        }
      ]
    },
    {
      "cell_type": "markdown",
      "source": [
        " 2) Write a Python program to remove duplicates from Dictionary."
      ],
      "metadata": {
        "id": "DtPo2MYmS0gZ"
      }
    },
    {
      "cell_type": "code",
      "source": [
        "test_dict = { 'name' : 'ABC', 'is' : 15, 'best' : 20, 'for' : 10, 'name' : 20}\n",
        "print(\"The original dictionary is : \" + str(test_dict))\n",
        "temp = []\n",
        "res = dict()\n",
        "for key, val in test_dict.items():\n",
        "\tif val not in temp:\n",
        "\t\ttemp.append(val)\n",
        "\t\tres[key] = val\n",
        "print(\"The dictionary after removal : \" + str(res))\n"
      ],
      "metadata": {
        "colab": {
          "base_uri": "https://localhost:8080/"
        },
        "id": "cVlhCiaSoDBu",
        "outputId": "07fc27df-6a1c-4560-f129-62b1e940e735"
      },
      "execution_count": null,
      "outputs": [
        {
          "output_type": "stream",
          "name": "stdout",
          "text": [
            "The original dictionary is : {'name': 20, 'is': 15, 'best': 20, 'for': 10}\n",
            "The dictionary after removal : {'name': 20, 'is': 15, 'for': 10}\n"
          ]
        }
      ]
    },
    {
      "cell_type": "markdown",
      "source": [
        " 3) Write a Python program to combine two dictionary adding values for common keys. \n",
        "dict1 = {'k1': 10, 'k2': 20, 'k3':30} \n",
        "dict2 = {'k1': 30, 'k2': 20, 'k4':40} \n",
        "Sample output: Counter({'k1': 40, 'k2': 40, 'k4': 40, 'k3': 30}) "
      ],
      "metadata": {
        "id": "0JO-mG2pSwog"
      }
    },
    {
      "cell_type": "code",
      "source": [
        "dict1 = {'k1': 10, 'k2': 20, 'k3':30}\n",
        "dict2 = {'k1': 30, 'k2': 20, 'k4':40}\n",
        "\n",
        "for key,value in dict2.items():\n",
        "  if key in dict1.keys():\n",
        "    dict1[key]+=dict2[key]\n",
        "  else:\n",
        "    dict1[key]=dict2[key]\n",
        "print(dict1)"
      ],
      "metadata": {
        "colab": {
          "base_uri": "https://localhost:8080/",
          "height": 0
        },
        "id": "wpA37twzxFU4",
        "outputId": "5dd64227-2987-4f99-9879-00a9500dfbe7"
      },
      "execution_count": 2,
      "outputs": [
        {
          "output_type": "stream",
          "name": "stdout",
          "text": [
            "{'k1': 40, 'k2': 40, 'k3': 30, 'k4': 40}\n"
          ]
        }
      ]
    },
    {
      "cell_type": "markdown",
      "source": [
        "4) Write a Python program to find the highest 3 values of corresponding keys in a dictionary."
      ],
      "metadata": {
        "id": "qr7ZEeFnSX4y"
      }
    },
    {
      "cell_type": "code",
      "source": [
        "from heapq import nlargest\n",
        "my_dict = {'a':500, 'b':5874, 'c': 560,'d':400, 'e':5874, 'f': 20}  \n",
        "three_largest = nlargest(3, my_dict, key=my_dict.get)\n",
        "print(three_largest)"
      ],
      "metadata": {
        "colab": {
          "base_uri": "https://localhost:8080/"
        },
        "id": "9rXWbZjXZvMd",
        "outputId": "5bc0da44-9d6c-4417-cbcb-0d95e85119ed"
      },
      "execution_count": null,
      "outputs": [
        {
          "output_type": "stream",
          "name": "stdout",
          "text": [
            "['b', 'e', 'c']\n"
          ]
        }
      ]
    },
    {
      "cell_type": "markdown",
      "source": [
        "5) Write a Python program to create a dictionary from a string. \n",
        "Note: Track the count of the letters from the string. \n",
        "Sample string : 'amazon' \n",
        "Expected output: {'a': 2, 'm': 1, 'z': t, 'o': 2, 'n': 1} "
      ],
      "metadata": {
        "id": "6K6TlCcwSbUp"
      }
    },
    {
      "cell_type": "code",
      "source": [
        "str1 = input(\"Enter a string :\")\n",
        "my_dict = {}\n",
        "for l in str1:\n",
        "    my_dict[l] = my_dict.get(l, 0) + 1\n",
        "print(my_dict)"
      ],
      "metadata": {
        "colab": {
          "base_uri": "https://localhost:8080/"
        },
        "id": "BreNQ4zMZaFl",
        "outputId": "263185ff-671d-49a0-80d8-32b7c1c80c12"
      },
      "execution_count": null,
      "outputs": [
        {
          "output_type": "stream",
          "name": "stdout",
          "text": [
            "Enter a string :amazon\n",
            "{'a': 2, 'm': 1, 'z': 1, 'o': 1, 'n': 1}\n"
          ]
        }
      ]
    },
    {
      "cell_type": "markdown",
      "source": [
        "6) Write a Python program to print a dictionary line by line. \n"
      ],
      "metadata": {
        "id": "umR0Eq_5SfFj"
      }
    },
    {
      "cell_type": "code",
      "source": [
        "dict1 = {   'A': 5,'B': 7, 'C': 10, 'D': 8}\n",
        "for key in dict1:\n",
        "    print(key, ' : ',dict1[key])\n",
        "#[print(key,':',value) for key, value in dict1.items()]"
      ],
      "metadata": {
        "colab": {
          "base_uri": "https://localhost:8080/"
        },
        "id": "VPI9ww0iXbP-",
        "outputId": "515420be-405b-41a5-c665-2d0a7f9383f8"
      },
      "execution_count": null,
      "outputs": [
        {
          "output_type": "stream",
          "name": "stdout",
          "text": [
            "A  :  5\n",
            "B  :  7\n",
            "C  :  10\n",
            "D  :  8\n"
          ]
        }
      ]
    },
    {
      "cell_type": "markdown",
      "source": [
        "7) Write a Python program to replace dictionary values with their average "
      ],
      "metadata": {
        "id": "XHtJaS5ESiPu"
      }
    },
    {
      "cell_type": "code",
      "source": [
        "dict1 = {\"A\" : 5, \"B\" : 8, \"C\" : 10, \"D\" : 8, \"E\" : 9}\n",
        "l=[values for keys,values in dict1.items()]\n",
        "a=sum(l)/len(l);\n",
        "dict1={k:a for k in dict1.keys()}\n",
        "print (dict1)"
      ],
      "metadata": {
        "colab": {
          "base_uri": "https://localhost:8080/"
        },
        "id": "FhGfpwdPSSId",
        "outputId": "1f89a3da-54b5-45b9-d702-1848c7488a13"
      },
      "execution_count": null,
      "outputs": [
        {
          "output_type": "stream",
          "name": "stdout",
          "text": [
            "{'A': 8.0, 'B': 8.0, 'C': 8.0, 'D': 8.0, 'E': 8.0}\n"
          ]
        }
      ]
    },
    {
      "cell_type": "markdown",
      "source": [
        "8) Write a Python program to drop empty Items from a given Dictionary. \n",
        "Original Dictionary:\n",
        "{'c1': 'CS, 'c2': 'IT', 'c3': None} \n",
        "New Dictionary after dropping empty items: \n",
        "{'c1': 'CS', 'c2': 'IT'\n"
      ],
      "metadata": {
        "id": "JFK-TXBUSk2W"
      }
    },
    {
      "cell_type": "code",
      "source": [
        "dict1 = {'c1': 'CS', 'c2': 'IT', 'c3':None}\n",
        "dict2 = {key:value for (key, value) in dict1.items() if value is not None}\n",
        "print(dict2)"
      ],
      "metadata": {
        "colab": {
          "base_uri": "https://localhost:8080/"
        },
        "id": "ExGegGFfSG4h",
        "outputId": "ace8f8f2-876f-48d4-ef42-f9ca606e8e0b"
      },
      "execution_count": null,
      "outputs": [
        {
          "output_type": "stream",
          "name": "stdout",
          "text": [
            "{'c1': 'CS', 'c2': 'IT'}\n"
          ]
        }
      ]
    },
    {
      "cell_type": "markdown",
      "source": [
        "9) Write a Python program to filter the height and width of students, which are stored in a dictionary. \n",
        "Original Dictionary: \n",
        "{'Ram': (6.2, 70), 'Sita': (5.9, 65), 'Hari': (6.0, 68), 'Gopal': (5.8, 66)} Height > 6ft and Weight> 65kg: \n",
        "{'Ram': (6.2, 70)}\n"
      ],
      "metadata": {
        "id": "PgUl_TDuSnOK"
      }
    },
    {
      "cell_type": "code",
      "source": [
        "dict={'Ram': (6.2, 70), 'Sita': (5.9, 65), 'Hari': (6.0, 68), 'Gopal': (5.8, 66)} \n",
        "result = {k: t for k, t in dict.items() if t[0] >=6.0 and t[1] >=70}\n",
        "print(result) "
      ],
      "metadata": {
        "colab": {
          "base_uri": "https://localhost:8080/"
        },
        "id": "fde2vy62N7dR",
        "outputId": "39de800c-a528-4648-b232-b403da9f070b"
      },
      "execution_count": null,
      "outputs": [
        {
          "output_type": "stream",
          "name": "stdout",
          "text": [
            "{'Ram': (6.2, 70)}\n"
          ]
        }
      ]
    },
    {
      "cell_type": "markdown",
      "source": [
        "<hr>\n",
        "<hr>\n",
        "<hr>"
      ],
      "metadata": {
        "id": "wYPYTdjmx-Mv"
      }
    }
  ]
}