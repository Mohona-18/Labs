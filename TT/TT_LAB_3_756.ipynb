{
  "nbformat": 4,
  "nbformat_minor": 0,
  "metadata": {
    "colab": {
      "name": "TT_lab_3_756.ipynb",
      "provenance": []
    },
    "kernelspec": {
      "name": "python3",
      "display_name": "Python 3"
    },
    "language_info": {
      "name": "python"
    }
  },
  "cells": [
    {
      "cell_type": "markdown",
      "source": [
        "Mohona Das<br>\n",
        "1905756<br>\n",
        "TT Lab-3<br>"
      ],
      "metadata": {
        "id": "BRa9wWmDobtH"
      }
    },
    {
      "cell_type": "markdown",
      "source": [
        "1) Write a Python function to find the greatest among three numbers. \n"
      ],
      "metadata": {
        "id": "UpL7K3b9PX4T"
      }
    },
    {
      "cell_type": "code",
      "execution_count": null,
      "metadata": {
        "colab": {
          "base_uri": "https://localhost:8080/"
        },
        "id": "KMVANohnOiMF",
        "outputId": "47e40064-ab43-468e-f21a-5a11d72ddfc8"
      },
      "outputs": [
        {
          "output_type": "stream",
          "name": "stdout",
          "text": [
            "Enter a  no3\n",
            "Enter a  no6\n",
            "Enter a  no7\n",
            "7\n"
          ]
        }
      ],
      "source": [
        "  \n",
        "def maximum(a, b, c):\n",
        "    list = [a, b, c]\n",
        "    return max(list)\n",
        "a =(int) (input(\"Enter a  no\"))\n",
        "b =(int) (input(\"Enter a  no\"))\n",
        "c =(int) (input(\"Enter a  no\"))\n",
        "print(maximum(a, b, c))\n"
      ]
    },
    {
      "cell_type": "markdown",
      "source": [
        "2) Write a Python function to reverse a string "
      ],
      "metadata": {
        "id": "KLbsuHMcP4dG"
      }
    },
    {
      "cell_type": "code",
      "source": [
        "def reverse(string):\n",
        "    string = string[::-1]\n",
        "    return string\n",
        "  \n",
        "s = input(\"Enter string\")\n",
        "print (\"original string : \",end=\"\")\n",
        "print (s)\n",
        "  \n",
        "print (\"reversed string : \",end=\"\")\n",
        "print (reverse(s))"
      ],
      "metadata": {
        "colab": {
          "base_uri": "https://localhost:8080/"
        },
        "id": "OZh3kGDUP_km",
        "outputId": "be3ec6aa-926a-4b13-bd76-f0a9963c9f9a"
      },
      "execution_count": null,
      "outputs": [
        {
          "output_type": "stream",
          "name": "stdout",
          "text": [
            "Enter stringHello\n",
            "original string : Hello\n",
            "reversed string : olleH\n"
          ]
        }
      ]
    },
    {
      "cell_type": "markdown",
      "source": [
        "3) Write a Python function that takes a list and returns a new list with unique elements of the first list. \n",
        "Sample List : [1,2,3,3,3,3,4,5] \n",
        "Unique List : [1, 2, 3, 4, 5] \n"
      ],
      "metadata": {
        "id": "6Vuf1PJlQZql"
      }
    },
    {
      "cell_type": "code",
      "source": [
        "def unique(list):\n",
        "   s=set(list)\n",
        "   return s\n",
        "   \n",
        "  \n",
        "l=[1,2,2,2,3,3,3,5,6,7,2]\n",
        "print (\"original list : \",end=\"\")\n",
        "print (l)\n",
        "  \n",
        "print (\"unique list: \",end=\"\")\n",
        "print (unique(l))"
      ],
      "metadata": {
        "colab": {
          "base_uri": "https://localhost:8080/"
        },
        "id": "_Wdbb4OqQhIW",
        "outputId": "1f233e2b-5ffd-47be-cb62-05825dc057fa"
      },
      "execution_count": null,
      "outputs": [
        {
          "output_type": "stream",
          "name": "stdout",
          "text": [
            "original list : [1, 2, 2, 2, 3, 3, 3, 5, 6, 7, 2]\n",
            "unique list: {1, 2, 3, 5, 6, 7}\n"
          ]
        }
      ]
    },
    {
      "cell_type": "markdown",
      "source": [
        "4) Write a Python function that checks whether a passed string is palindrome or not. "
      ],
      "metadata": {
        "id": "LNMq2ZtXRUW1"
      }
    },
    {
      "cell_type": "code",
      "source": [
        "def is_palindrome(s):\n",
        "    if len(s) < 1:\n",
        "        return True\n",
        "    else:\n",
        "        if s[0] == s[-1]:\n",
        "            return is_palindrome(s[1:-1])\n",
        "        else:\n",
        "            return False\n",
        "a=str(input(\"Enter string:\"))\n",
        "if(is_palindrome(a)==True):\n",
        "    print(\"Palindrome\")\n",
        "else:\n",
        "    print(\"Not palindrome\")"
      ],
      "metadata": {
        "colab": {
          "base_uri": "https://localhost:8080/"
        },
        "id": "Am9fZ8G9RQoB",
        "outputId": "676e155d-9c17-4ec4-d516-d9853c70371f"
      },
      "execution_count": null,
      "outputs": [
        {
          "output_type": "stream",
          "name": "stdout",
          "text": [
            "Enter string:malayalam\n",
            "Palindrome\n"
          ]
        }
      ]
    },
    {
      "cell_type": "markdown",
      "source": [
        "5) Write a Python function to find out the factorial of a number using recursion"
      ],
      "metadata": {
        "id": "qvMpB5TYRj2-"
      }
    },
    {
      "cell_type": "code",
      "source": [
        "def factorial(n):\n",
        "   if n == 1:\n",
        "       return n\n",
        "   else:\n",
        "       return n*factorial(n-1)\n",
        "\n",
        "n = int(input(\"Enter a number: \"))  \n",
        "\n",
        "if n < 0:\n",
        "   print(\"negative numbers: FACT NOT EXIST\")\n",
        "elif n == 0:\n",
        "   print(\"The factorial of 0 is: 1\")\n",
        "else:\n",
        "   print(\"The factorial of\", n, \"is :\",factorial(n))"
      ],
      "metadata": {
        "colab": {
          "base_uri": "https://localhost:8080/"
        },
        "id": "GZVWcuJyRn6v",
        "outputId": "8d4a19b5-b2fd-4afb-f9e1-868c8818f1fa"
      },
      "execution_count": null,
      "outputs": [
        {
          "output_type": "stream",
          "name": "stdout",
          "text": [
            "Enter a number: 5\n",
            "The factorial of 5 is : 120\n"
          ]
        }
      ]
    },
    {
      "cell_type": "markdown",
      "source": [
        "6) Write a Python function to display the Fibonacci Series using recursion"
      ],
      "metadata": {
        "id": "aBOpy0W2R1Ge"
      }
    },
    {
      "cell_type": "code",
      "source": [
        "\n",
        "def fibo(n):\n",
        "   if n <= 1:\n",
        "       return n\n",
        "   else:\n",
        "       return(fibo(n-1) + fibo(n-2))\n",
        "\n",
        "nterms = int(input(\"Enter a n terms : \"))  \n",
        "\n",
        "\n",
        "if nterms <= 0:\n",
        "   print(\"NOT a positive integer\")\n",
        "else:\n",
        "   print(\"Fibonacci sequence:\")\n",
        "   for i in range(nterms):\n",
        "       print(fibo(i))"
      ],
      "metadata": {
        "colab": {
          "base_uri": "https://localhost:8080/"
        },
        "id": "GPJCA4RfR359",
        "outputId": "1f7125bd-be45-4e44-ad5c-af1403a8dd3a"
      },
      "execution_count": null,
      "outputs": [
        {
          "output_type": "stream",
          "name": "stdout",
          "text": [
            "Enter a n terms : 6\n",
            "Fibonacci sequence:\n",
            "0\n",
            "1\n",
            "1\n",
            "2\n",
            "3\n",
            "5\n"
          ]
        }
      ]
    },
    {
      "cell_type": "markdown",
      "source": [
        " 7) Write a Python function to find out Sum of Digits using recursion. \n"
      ],
      "metadata": {
        "id": "BZC1iQcaSAWl"
      }
    },
    {
      "cell_type": "code",
      "source": [
        "\n",
        "def sum_of_digit(n):\n",
        "    if n< 10:\n",
        "        return n\n",
        "    else:\n",
        "        return n%10 + sum_of_digit(n/10)\n",
        "\n",
        "number = int(input(\"Enter number: \"))\n",
        "digit_sum = sum_of_digit(number)\n",
        "\n",
        "\n",
        "print(\"Sum of digit of number %d is %d.\" % (number,digit_sum))"
      ],
      "metadata": {
        "colab": {
          "base_uri": "https://localhost:8080/"
        },
        "id": "8nW035lTSE7Z",
        "outputId": "f9bfd3ab-9bfa-481b-d623-2e5b31e672ef"
      },
      "execution_count": null,
      "outputs": [
        {
          "output_type": "stream",
          "name": "stdout",
          "text": [
            "Enter number: 120\n",
            "Sum of digit of number 120 is 3.\n"
          ]
        }
      ]
    },
    {
      "cell_type": "markdown",
      "source": [
        "8) Write a Python function to find out LCM and GCD using recursion. \n"
      ],
      "metadata": {
        "id": "i_jZC1dhSKnZ"
      }
    },
    {
      "cell_type": "code",
      "source": [
        "def gcd(a,b):\n",
        "    if (b == 0):\n",
        "        return a;\n",
        "    else:\n",
        "        return gcd(b, a % b);\n",
        "    \n",
        "\n",
        "a=int(input(\"Enter a number : \"))\n",
        "b=int(input(\"Enter a number : \"))\n",
        "ans=gcd(a,b)\n",
        "lcm=(a*b)/ans\n",
        "print(ans)\n",
        "print(lcm)"
      ],
      "metadata": {
        "colab": {
          "base_uri": "https://localhost:8080/"
        },
        "id": "wTmduHcXSU2B",
        "outputId": "0bbee2be-5880-471a-8ca7-e9f80ac407dc"
      },
      "execution_count": null,
      "outputs": [
        {
          "output_type": "stream",
          "name": "stdout",
          "text": [
            "Enter a number : 5\n",
            "Enter a number : 40\n",
            "5\n",
            "40.0\n"
          ]
        }
      ]
    },
    {
      "cell_type": "markdown",
      "source": [
        "9) Write a Python function to implement Binary Search without using recursion. "
      ],
      "metadata": {
        "id": "fGGBUkYBTKCo"
      }
    },
    {
      "cell_type": "code",
      "source": [
        "def binary_search(arr, x):\n",
        "\tlow = 0\n",
        "\thigh = len(arr) - 1\n",
        "\tmid = 0\n",
        "\twhile low <= high:\n",
        "\t\tmid = (high + low) // 2\n",
        "\t\tif arr[mid] < x:\n",
        "\t\t\tlow = mid + 1\n",
        "\t\telif arr[mid] > x:\n",
        "\t\t\thigh = mid - 1\n",
        "\t\telse:\n",
        "\t\t\treturn mid\n",
        "\treturn -1\n",
        "arr = [ 2, 3, 4, 10,23,27,33,39, 40 ]\n",
        "x = int(input('enter the element to be searched: '))\n",
        "result = binary_search(arr, x)\n",
        "if result != -1:\n",
        "\tprint(\"Element is present at index\", str(result))\n",
        "else:\n",
        "\tprint(\"Element is not present\")\n"
      ],
      "metadata": {
        "colab": {
          "base_uri": "https://localhost:8080/"
        },
        "id": "K9393JH2TNUE",
        "outputId": "2cf831f8-2710-4b37-e5f3-f3ee93e4cce4"
      },
      "execution_count": null,
      "outputs": [
        {
          "output_type": "stream",
          "name": "stdout",
          "text": [
            "enter the element to be searched: 4\n",
            "Element is present at index 2\n"
          ]
        }
      ]
    },
    {
      "cell_type": "markdown",
      "source": [
        "10) Write a Python function to implement Binary Search with using recursion. "
      ],
      "metadata": {
        "id": "A0YF2FrUSdrS"
      }
    },
    {
      "cell_type": "code",
      "source": [
        "def binary(a, f, l, s):\n",
        "    mid=int((f+l)/2)\n",
        "    if s>a[mid]:\n",
        "        binary(a, mid, l, s)\n",
        "    elif s<a[mid]:\n",
        "        binary(a,f, mid, s)\n",
        "    elif s==a[mid]:\n",
        "        print(\"Number found at\", mid+1)\n",
        "    else:\n",
        "        print(\"Number is not there in the array\")\n",
        "b=[1,2,3,4,5,6,7,8,9]\n",
        "s = int(input('enter the element to be searched: '))\n",
        "print(\"The list is \",b)\n",
        "f=0\n",
        "l=len(b)\n",
        "binary(b,f,l,s)\n"
      ],
      "metadata": {
        "colab": {
          "base_uri": "https://localhost:8080/"
        },
        "id": "EeqO_ikgSkC2",
        "outputId": "450e4e87-c612-4b95-edfe-49ebae1c0c1d"
      },
      "execution_count": null,
      "outputs": [
        {
          "output_type": "stream",
          "name": "stdout",
          "text": [
            "enter the element to be searched: 6\n",
            "The list is  [1, 2, 3, 4, 5, 6, 7, 8, 9]\n",
            "Number found at 6\n"
          ]
        }
      ]
    },
    {
      "cell_type": "markdown",
      "source": [
        "11). WAP to calculate the sum of digits of a given number. \n"
      ],
      "metadata": {
        "id": "V-jBFhs9TrEI"
      }
    },
    {
      "cell_type": "code",
      "source": [
        "n=int(input(\"Enter a number:\"))\n",
        "s=0\n",
        "while(n>0):\n",
        "    dig=n%10\n",
        "    s+=dig\n",
        "    n=n//10\n",
        "print(\"The total sum of digits is:\",s)"
      ],
      "metadata": {
        "colab": {
          "base_uri": "https://localhost:8080/"
        },
        "id": "5jmP1sy2Txyd",
        "outputId": "bf4090b3-0655-4776-d84a-c5435f47799e"
      },
      "execution_count": null,
      "outputs": [
        {
          "output_type": "stream",
          "name": "stdout",
          "text": [
            "Enter a number:1345\n",
            "The total sum of digits is: 13\n"
          ]
        }
      ]
    },
    {
      "cell_type": "markdown",
      "source": [
        "12)WAP to check whether a number n is a prime number or not."
      ],
      "metadata": {
        "id": "zykWQ6kTWtTV"
      }
    },
    {
      "cell_type": "code",
      "source": [
        "num =int(input(\"Enter number\"))\n",
        "if num > 1:\n",
        "   for i in range(2,num):\n",
        "       if (num % i) == 0:\n",
        "           print(num,\"is not a prime number\")\n",
        "           print(i,\"times\",num//i,\"is\",num)\n",
        "           break\n",
        "   else:\n",
        "       print(num,\"is a prime number\")\n",
        "else:\n",
        "   print(num,\"is not a prime number\")"
      ],
      "metadata": {
        "colab": {
          "base_uri": "https://localhost:8080/"
        },
        "id": "PgjVjAL3Wjdq",
        "outputId": "13f28158-286e-4104-fe4d-4a9fdc7622ef"
      },
      "execution_count": null,
      "outputs": [
        {
          "output_type": "stream",
          "name": "stdout",
          "text": [
            "Enter number5\n",
            "5 is a prime number\n"
          ]
        }
      ]
    },
    {
      "cell_type": "markdown",
      "source": [
        "13)Write a function to check if a given number is perfect or not. The first perfect number is 6, because 1, 2,and 3 are its proper positive divisors, and 1 + 2 + 3 = 6* /*Hints: A number is a perfect number if is equal to sum of its proper divisors, that is, sum of its positive divisors excluding the number itself. \n"
      ],
      "metadata": {
        "id": "f5AceARkUF4Z"
      }
    },
    {
      "cell_type": "code",
      "source": [
        "n = int(input(\"Enter any number: \"))\n",
        "sum1 = 0\n",
        "for i in range(1, n):\n",
        "    if(n % i == 0):\n",
        "        sum1 = sum1 + i\n",
        "if (sum1 == n):\n",
        "    print(\" Perfect number\")\n",
        "else:\n",
        "    print(\"Not a Perfect number\")"
      ],
      "metadata": {
        "colab": {
          "base_uri": "https://localhost:8080/"
        },
        "id": "929LF7vcUJqe",
        "outputId": "734a8d50-3c42-405f-f468-32e5f1363ff1"
      },
      "execution_count": null,
      "outputs": [
        {
          "output_type": "stream",
          "name": "stdout",
          "text": [
            "Enter any number: 120\n",
            "Not a Perfect number\n"
          ]
        }
      ]
    },
    {
      "cell_type": "markdown",
      "source": [
        "14). WAP to print all odd and even numbers separately within a given range. The range is input through user. \n"
      ],
      "metadata": {
        "id": "o6m7krFzVQFZ"
      }
    },
    {
      "cell_type": "code",
      "source": [
        "start = int(input(\"Enter the start of range: \"))\n",
        "end = int(input(\"Enter the end of range: \"))\n",
        "e=list()\n",
        "o=list()\n",
        "for num in range(start, end + 1):\n",
        "    if num % 2 != 0:\n",
        "       o.append(num)\n",
        "    else:\n",
        "      e.append(num)\n",
        "print(e,o)\n"
      ],
      "metadata": {
        "colab": {
          "base_uri": "https://localhost:8080/"
        },
        "id": "GHlnC8EPRTIt",
        "outputId": "0f6b0475-d8ab-41ae-dac1-2659a9a4ee36"
      },
      "execution_count": null,
      "outputs": [
        {
          "output_type": "stream",
          "name": "stdout",
          "text": [
            "Enter the start of range: 1\n",
            "Enter the end of range: 4\n",
            "[2, 4] [1, 3]\n"
          ]
        }
      ]
    },
    {
      "cell_type": "markdown",
      "source": [
        "15). WAP to evaluate the equation y=x^n where n is a non-negative integer. "
      ],
      "metadata": {
        "id": "1sJeyOoxXrqd"
      }
    },
    {
      "cell_type": "code",
      "source": [
        "x=int(input(\"Enter base\"))\n",
        "n=int(input(\"Enter power\"))\n",
        "\n",
        "result = pow(x,n)\n",
        "\n",
        "print(\"y=x^n=> \" + str(result))"
      ],
      "metadata": {
        "colab": {
          "base_uri": "https://localhost:8080/"
        },
        "id": "xUewrzSlYLri",
        "outputId": "d423521c-89c8-401d-fda1-eb04b39f4aec"
      },
      "execution_count": null,
      "outputs": [
        {
          "output_type": "stream",
          "name": "stdout",
          "text": [
            "Enter base2\n",
            "Enter power3\n",
            "y=x^n=> 8\n"
          ]
        }
      ]
    },
    {
      "cell_type": "markdown",
      "source": [
        "16). WAP to print the series as 1 2 7 15 31 ..........n, where n is given by the user"
      ],
      "metadata": {
        "id": "QDJopektYlUn"
      }
    },
    {
      "cell_type": "code",
      "source": [
        "n=int(input(\"Enter n \"))\n",
        "i = 1\n",
        "p = 0\n",
        "\n",
        "while i <= n:\n",
        "    p= (p* 2) + 1\n",
        "    print(p, end=\" \")\n",
        "    i += 1\n",
        "\n"
      ],
      "metadata": {
        "colab": {
          "base_uri": "https://localhost:8080/"
        },
        "id": "0juHoYTyYwod",
        "outputId": "21d5f875-466d-42ac-de8d-fd9d9bae59b8"
      },
      "execution_count": null,
      "outputs": [
        {
          "output_type": "stream",
          "name": "stdout",
          "text": [
            "Enter n 6\n",
            "1 3 7 15 31 63 "
          ]
        }
      ]
    },
    {
      "cell_type": "markdown",
      "source": [
        "17). WAP to print the series as 3 5 7 11 13 17..........n, where n is given by the user. "
      ],
      "metadata": {
        "id": "oX_BJOUoYwRk"
      }
    },
    {
      "cell_type": "code",
      "source": [
        "def prime(x, y):\n",
        "    prime_list = []\n",
        "    for i in range(x, y):\n",
        "        if i == 0 or i == 1:\n",
        "            continue\n",
        "        else:\n",
        "            for j in range(2, int(i/2)+1):\n",
        "                if i % j == 0:\n",
        "                    break\n",
        "            else:\n",
        "                prime_list.append(i)\n",
        "    return prime_list\n",
        "ending_range =int(input(\"Enter n\"))\n",
        "lst = prime(3, ending_range)\n",
        "if len(lst) == 0:\n",
        "    print(\"There are no prime numbers in this range\")\n",
        "else:\n",
        "    print(\"The prime numbers in this range are: \", lst)\n"
      ],
      "metadata": {
        "colab": {
          "base_uri": "https://localhost:8080/"
        },
        "id": "7-28DvyLZ8RD",
        "outputId": "ab684f22-395c-442f-d2b3-ec72e3252c10"
      },
      "execution_count": null,
      "outputs": [
        {
          "output_type": "stream",
          "name": "stdout",
          "text": [
            "Enter n22\n",
            "The prime numbers in this range are:  [3, 5, 7, 11, 13, 17, 19]\n"
          ]
        }
      ]
    },
    {
      "cell_type": "markdown",
      "source": [
        "18). WAP to sum the following series S=1+(1+2)+(1+2+3)+...+(1+2+3+...+n)"
      ],
      "metadata": {
        "id": "MvW1GpWzbXj9"
      }
    },
    {
      "cell_type": "code",
      "source": [
        "def sumOfSeries(n):\n",
        "\treturn sum([i*(i+1)/2 for i in range(1, n + 1)])\n",
        "\n",
        "n = int(input(\"Enter n \"))\n",
        "print(sumOfSeries(n))\n"
      ],
      "metadata": {
        "colab": {
          "base_uri": "https://localhost:8080/"
        },
        "id": "BIZZACOybdXh",
        "outputId": "671b0ac9-651d-429d-fac4-4f34b80c1253"
      },
      "execution_count": null,
      "outputs": [
        {
          "output_type": "stream",
          "name": "stdout",
          "text": [
            "Enter n 3\n",
            "10.0\n"
          ]
        }
      ]
    },
    {
      "cell_type": "markdown",
      "source": [
        "19). WAP to print the following pattern for n rows. Ex. for n=5 rows \n",
        "* <br>\n",
        "* * <br>\n",
        "* * * <br>\n",
        "* * * * <br>\n",
        "* * * * * <br>\n"
      ],
      "metadata": {
        "id": "ouZ5DnDub_dq"
      }
    },
    {
      "cell_type": "code",
      "source": [
        "def pat(n):\n",
        "  for i in range(1, n + 1):\n",
        "    for j in range(1, i + 1):\n",
        "        print(\"*\", end=' ')\n",
        "    print('')\n",
        "\n",
        "n = int(input(\"Enter n \"))\n",
        "pat(n)\n",
        "\n"
      ],
      "metadata": {
        "colab": {
          "base_uri": "https://localhost:8080/"
        },
        "id": "BztAQd40bXF_",
        "outputId": "10ab9d4b-cd5e-4e7b-a69c-e9095cf4536c"
      },
      "execution_count": null,
      "outputs": [
        {
          "output_type": "stream",
          "name": "stdout",
          "text": [
            "Enter n 5\n",
            "* \n",
            "* * \n",
            "* * * \n",
            "* * * * \n",
            "* * * * * \n"
          ]
        }
      ]
    },
    {
      "cell_type": "markdown",
      "source": [
        "20). WAP to print the following pattern for n rows. Ex. for n=5 rows <br>\n",
        "1 <br>\n",
        "2 1 <br>\n",
        "1 2 3 <br>\n",
        "4 3 2 1 <br>\n",
        "1 2 3 4 5 <br>\n"
      ],
      "metadata": {
        "id": "ZnxFTXgrdXg5"
      }
    },
    {
      "cell_type": "code",
      "source": [
        "def pat(n):\n",
        "  for i in range(1, n+1):\n",
        "    if i%2 == 0 :\n",
        "      for j in range(i, 0, -1):\n",
        "        print(j, end=' ')\n",
        "    else :\n",
        "      for j in range(1,i+1,1):\n",
        "        print(j,end=' ')\n",
        "    print(\"\")\n",
        "\n",
        "n = int(input(\"Enter n \"))\n",
        "pat(n)"
      ],
      "metadata": {
        "colab": {
          "base_uri": "https://localhost:8080/"
        },
        "id": "7zvehLIFdwne",
        "outputId": "0d882bb1-2c4a-49c8-9d40-e238b5e921dd"
      },
      "execution_count": 1,
      "outputs": [
        {
          "output_type": "stream",
          "name": "stdout",
          "text": [
            "Enter n 5\n",
            "1 \n",
            "2 1 \n",
            "1 2 3 \n",
            "4 3 2 1 \n",
            "1 2 3 4 5 \n"
          ]
        }
      ]
    },
    {
      "cell_type": "markdown",
      "source": [
        "21). WAP to convert a decimal number into its equivalent number with base b. Decimal number and b are the user input. "
      ],
      "metadata": {
        "id": "pxVouFWNecsy"
      }
    },
    {
      "cell_type": "code",
      "source": [
        "def reVal(num):\n",
        "\n",
        "\tif (num >= 0 and num <= 9):\n",
        "\t\treturn chr(num + ord('0'))\n",
        "\telse:\n",
        "\t\treturn chr(num - 10 + ord('A'))\n",
        "def strev(str):\n",
        "\tl = len(str)\n",
        "\tfor i in range(int(l / 2)):\n",
        "\t\ttemp = str[i]\n",
        "\t\tstr[i] = str[l - i - 1]\n",
        "\t\tstr[l - i - 1] = temp\n",
        "def fromDeci(res, base, inputNum):\n",
        "\tindex = 0\n",
        "\twhile (inputNum > 0):\n",
        "\t\tres+= reVal(inputNum % base)\n",
        "\t\tinputNum = int(inputNum / base)\n",
        "\tres = res[::-1]\n",
        "\treturn res\n",
        "\n",
        "inputNum = int(input(\"Enter n \"));\n",
        "base = int(input(\"Enter base \"));\n",
        "res = \"\";\n",
        "print(\"Equivalent of\", inputNum, \"in base\",base, \"is\", fromDeci(res, base, inputNum));\n",
        "\n"
      ],
      "metadata": {
        "colab": {
          "base_uri": "https://localhost:8080/"
        },
        "id": "35uZ6CYxfmda",
        "outputId": "c1870404-db47-486c-c471-3d902d9f20d9"
      },
      "execution_count": null,
      "outputs": [
        {
          "output_type": "stream",
          "name": "stdout",
          "text": [
            "Enter n 4\n",
            "Enter base 16\n",
            "Equivalent of 4 in base 16 is 4\n"
          ]
        }
      ]
    },
    {
      "cell_type": "markdown",
      "source": [
        "22). WAP to convert a number with base b into its equivalent decimal number. Numbers with base b &amp; b are the user input. "
      ],
      "metadata": {
        "id": "VBbIrBm0ecqF"
      }
    },
    {
      "cell_type": "code",
      "source": [
        "def val(c):\n",
        "\tif c >= '0' and c <= '9':\n",
        "\t\treturn ord(c) - ord('0')\n",
        "\telse:\n",
        "\t\treturn ord(c) - ord('A') + 10;\n",
        "def toDeci(str,base):\n",
        "\tllen = len(str)\n",
        "\tpower = 1 #Initialize power of base\n",
        "\tnum = 0\t #Initialize result\n",
        "\tfor i in range(llen - 1, -1, -1):\n",
        "\t\tif val(str[i]) >= base:\n",
        "\t\t\tprint('Invalid Number')\n",
        "\t\t\treturn -1\n",
        "\t\tnum += val(str[i]) * power\n",
        "\t\tpower = power * base\n",
        "\treturn num\n",
        "strr = input(\"Enter number \")\n",
        "base = int(input(\"Enter base \"))\n",
        "print('Decimal equivalent of', strr,\n",
        "\t\t\t'in base', base, 'is',\n",
        "\t\t\t\ttoDeci(strr, base))\n"
      ],
      "metadata": {
        "colab": {
          "base_uri": "https://localhost:8080/"
        },
        "id": "CcvTINvXeb9h",
        "outputId": "56d70ab1-ee08-46d5-95fe-ad3a7fe2c556"
      },
      "execution_count": null,
      "outputs": [
        {
          "output_type": "stream",
          "name": "stdout",
          "text": [
            "Enter number A\n",
            "Enter base 16\n",
            "Decimal equivalent of A in base 16 is 10\n"
          ]
        }
      ]
    },
    {
      "cell_type": "markdown",
      "source": [
        "23). WAP to convert a binary number to its equivalent octal- hexa-decimal number system. \n"
      ],
      "metadata": {
        "id": "i_6eEuBfjcNp"
      }
    },
    {
      "cell_type": "code",
      "source": [
        "dec = int(input(\"Enter n \"))\n",
        "\n",
        "print(\"The decimal value of\", dec, \"is:\")\n",
        "print(bin(dec), \"in binary.\")\n",
        "print(oct(dec), \"in octal.\")\n",
        "print(hex(dec), \"in hexadecimal.\")\n"
      ],
      "metadata": {
        "colab": {
          "base_uri": "https://localhost:8080/"
        },
        "id": "DzIPxIGkjkEZ",
        "outputId": "1f56c498-e238-4a4d-9e4d-f2539792e7ce"
      },
      "execution_count": null,
      "outputs": [
        {
          "output_type": "stream",
          "name": "stdout",
          "text": [
            "Enter n 10\n",
            "The decimal value of 10 is:\n",
            "0b1010 in binary.\n",
            "0o12 in octal.\n",
            "0xa in hexadecimal.\n"
          ]
        }
      ]
    },
    {
      "cell_type": "markdown",
      "source": [
        "24) write a python function to implement ( take user input list to display output)<br>\n",
        "a) Bubble sort() <br>\n",
        "b) Selection sort() <br>\n",
        "c) Linear Search() <br>\n",
        "d) Quick sort() <br>\n",
        "e) Insertion Sort() <br>\n"
      ],
      "metadata": {
        "id": "jfwRXa1GkRFF"
      }
    },
    {
      "cell_type": "code",
      "source": [
        "def bubbleSort(array):\n",
        "  for i in range(len(array)):\n",
        "    for j in range(0, len(array) - i - 1):\n",
        "      if array[j] > array[j + 1]:\n",
        "        temp = array[j]\n",
        "        array[j] = array[j+1]\n",
        "        array[j+1] = temp\n",
        "\n",
        "  print(array)\n",
        "\n",
        "\n",
        "def selectionSort(array, size):\n",
        "    for step in range(size):\n",
        "        min_idx = step\n",
        "        for i in range(step + 1, size):\n",
        "            if array[i] < array[min_idx]:\n",
        "                min_idx = i\n",
        "        (array[step], array[min_idx]) = (array[min_idx], array[step])\n",
        "    print(array)\n",
        "\n",
        "def partition(array, low, high):\n",
        "  pivot = array[high]\n",
        "  i = low - 1\n",
        "  for j in range(low, high):\n",
        "    if array[j] <= pivot:\n",
        "      i = i + 1\n",
        "      (array[i], array[j]) = (array[j], array[i])\n",
        "  (array[i + 1], array[high]) = (array[high], array[i + 1])\n",
        "  return i + 1\n",
        "def quickSort(array, low, high):\n",
        "  if low < high:\n",
        "    pi = partition(array, low, high)\n",
        "    quickSort(array, low, pi - 1)\n",
        "    quickSort(array, pi + 1, high)\n",
        "\n",
        "def insertionSort(array):\n",
        "\n",
        "    for step in range(1, len(array)):\n",
        "        key = array[step]\n",
        "        j = step - 1       \n",
        "        while j >= 0 and key < array[j]:\n",
        "            array[j + 1] = array[j]\n",
        "            j = j - 1\n",
        "        array[j + 1] = key\n",
        "    print(array)\n",
        "\n",
        "data = [9, 5, 1, 4, 3,3,6,43,12,54]\n",
        "\n",
        "def linearSearch(array, n, x):\n",
        "    for i in range(0, n):\n",
        "        if (array[i] == x):\n",
        "            return i\n",
        "    return -1\n",
        "\n",
        "\n",
        "x = 1\n",
        "n = len(data)\n",
        "result = linearSearch(data, n, x)\n",
        "if(result == -1):\n",
        "    print(\"Element not found\")\n",
        "else:\n",
        "    print(\"Element found at index: \", result)\n",
        "\n",
        "print(\"bubble sort \" , bubbleSort(data))\n",
        "print(\"Selection sort \", selectionSort(data,len(data)))\n",
        "print(\"Insertion sort \",insertionSort(data))\n"
      ],
      "metadata": {
        "colab": {
          "base_uri": "https://localhost:8080/"
        },
        "id": "qRVpfx3_kidE",
        "outputId": "34f6c67e-5dd3-483d-c9a0-ef539e2448d5"
      },
      "execution_count": null,
      "outputs": [
        {
          "output_type": "stream",
          "name": "stdout",
          "text": [
            "Element found at index:  2\n",
            "[1, 3, 3, 4, 5, 6, 9, 12, 43, 54]\n",
            "bubble sort  None\n",
            "[1, 3, 3, 4, 5, 6, 9, 12, 43, 54]\n",
            "Selection sort  None\n",
            "[1, 3, 3, 4, 5, 6, 9, 12, 43, 54]\n",
            "Insertion sort  None\n"
          ]
        }
      ]
    },
    {
      "cell_type": "markdown",
      "source": [
        "25) write function to find smallest number in a list "
      ],
      "metadata": {
        "id": "srHugCeaURWE"
      }
    },
    {
      "cell_type": "code",
      "source": [
        "\n",
        "def mini(l):\n",
        "    #for i in range(0, len(l)):\n",
        "      return min(l)\n",
        "l=[1,2,4,5,6,7,32,-9,23,155,6545]\n",
        "print(mini(l))"
      ],
      "metadata": {
        "colab": {
          "base_uri": "https://localhost:8080/"
        },
        "id": "1a5a_j0GlG6P",
        "outputId": "b8ab1a2a-e268-495f-fa3f-b07833d8a888"
      },
      "execution_count": null,
      "outputs": [
        {
          "output_type": "stream",
          "name": "stdout",
          "text": [
            "-9\n"
          ]
        }
      ]
    },
    {
      "cell_type": "markdown",
      "source": [
        "26)write a python function to find largest number in a list \n"
      ],
      "metadata": {
        "id": "rULwtl6dUukv"
      }
    },
    {
      "cell_type": "code",
      "source": [
        "\n",
        "def maxi(l):\n",
        "    #for i in range(0, len(l)):\n",
        "      return max(l)\n",
        "l=[1,2,4,5,6,7,32,-9,23,155,6545]\n",
        "print(maxi(l))"
      ],
      "metadata": {
        "colab": {
          "base_uri": "https://localhost:8080/"
        },
        "id": "QNMvq7OHU0Sh",
        "outputId": "b9830842-560d-410d-f9ed-4e7f1fd7d2b4"
      },
      "execution_count": null,
      "outputs": [
        {
          "output_type": "stream",
          "name": "stdout",
          "text": [
            "6545\n"
          ]
        }
      ]
    },
    {
      "cell_type": "markdown",
      "source": [
        "27) write a python function to find second largest number in a list "
      ],
      "metadata": {
        "id": "iwEbBoHzVQ01"
      }
    },
    {
      "cell_type": "code",
      "source": [
        "def maxi(l):\n",
        "      m=[x for x in l if x !=max(l)]\n",
        "      return max(m)\n",
        "\n",
        "l=[1,2,4,5,6,7,32,-9,23,155,6545]\n",
        "print(maxi(l))"
      ],
      "metadata": {
        "colab": {
          "base_uri": "https://localhost:8080/"
        },
        "id": "6mT1VfpGVVt2",
        "outputId": "7c09bd79-1b93-4816-a9e7-413fe1113c57"
      },
      "execution_count": null,
      "outputs": [
        {
          "output_type": "stream",
          "name": "stdout",
          "text": [
            "155\n"
          ]
        }
      ]
    },
    {
      "cell_type": "markdown",
      "source": [
        "28) write a lambda function to implement : <br>\n",
        "a) Square of number (use map function to find) <br>\n",
        "b) Cube of number <br>\n",
        "c) Max of two number (4,5) <br>\n"
      ],
      "metadata": {
        "id": "yBl_jp-kV8Vt"
      }
    },
    {
      "cell_type": "code",
      "source": [
        "nums = [1, 2, 3, 4, 5, 6, 7, 8, 9, 10]\n",
        "print(nums)\n",
        "sq = list(map(lambda x: x ** 2, nums))\n",
        "print(sq)\n",
        "cb = list(map(lambda x: x ** 3, nums))\n",
        "print(cb)\n",
        "\n",
        "a=int(input(\"Enter a number: \"))\n",
        "b=int(input(\"Enter a number: \"))\n",
        "maximum = lambda a,b:a if a > b else b\n",
        "print(f'{maximum(a,b)} is a max')"
      ],
      "metadata": {
        "colab": {
          "base_uri": "https://localhost:8080/"
        },
        "id": "1YERMG_DWsHo",
        "outputId": "c40531cb-4c24-4ecc-94ee-437b229c782b"
      },
      "execution_count": null,
      "outputs": [
        {
          "output_type": "stream",
          "name": "stdout",
          "text": [
            "[1, 2, 3, 4, 5, 6, 7, 8, 9, 10]\n",
            "[1, 4, 9, 16, 25, 36, 49, 64, 81, 100]\n",
            "[1, 8, 27, 64, 125, 216, 343, 512, 729, 1000]\n",
            "Enter a number: 56\n",
            "Enter a number: 24\n",
            "56 is a max\n"
          ]
        }
      ]
    },
    {
      "cell_type": "markdown",
      "source": [
        " 29) Write a python program to find the square and cube of the list L: [1,2,3,4,5,6,7,8,9,10] Using map function "
      ],
      "metadata": {
        "id": "Vygs3vUtXXhQ"
      }
    },
    {
      "cell_type": "code",
      "source": [
        "def sq(n):\n",
        "  return n * n\n",
        "\n",
        "def cb(n):\n",
        "  return n*n*n\n",
        "nums = [4, 5, 2, 9]\n",
        "print(\"Original List: \",nums)\n",
        "result = map(sq, nums)\n",
        "print(\"Square of elements \")\n",
        "print(list(result))\n",
        "result = map(cb, nums)\n",
        "print(\"Cube of elements \")\n",
        "print(list(result))"
      ],
      "metadata": {
        "colab": {
          "base_uri": "https://localhost:8080/"
        },
        "id": "229INTe_XrSL",
        "outputId": "85a15f08-7aa2-4a5d-8a36-2dea2a914bfc"
      },
      "execution_count": null,
      "outputs": [
        {
          "output_type": "stream",
          "name": "stdout",
          "text": [
            "Original List:  [4, 5, 2, 9]\n",
            "Square of elements \n",
            "[16, 25, 4, 81]\n",
            "Cube of elements \n",
            "[64, 125, 8, 729]\n"
          ]
        }
      ]
    },
    {
      "cell_type": "markdown",
      "source": [
        "30) Write a python program to number which are prime numbers in the given list L: [1,2,3,4,5,6,7,8,9,10] Using filter function. "
      ],
      "metadata": {
        "id": "fd17wMydYETO"
      }
    },
    {
      "cell_type": "code",
      "source": [
        "def fun(num):\n",
        "    if num > 1:\n",
        "      for i in range(2,num):\n",
        "       if (num % i) == 0:\n",
        "        return False\n",
        "        break\n",
        "       else:\n",
        "         return True\n",
        "    else:\n",
        "      return False\n",
        "l=[1,2,3,4,5,6,7,8,9,10] \n",
        "\n",
        "# using filter function\n",
        "filtered = filter(fun, l)\n",
        "\n",
        "print('The Prime nos. are:')\n",
        "for s in filtered:\n",
        "\tprint(s)\n"
      ],
      "metadata": {
        "colab": {
          "base_uri": "https://localhost:8080/"
        },
        "id": "kG-pzncSYD_0",
        "outputId": "fc56005c-aff6-450b-c806-fab56e92c61c"
      },
      "execution_count": null,
      "outputs": [
        {
          "output_type": "stream",
          "name": "stdout",
          "text": [
            "The Prime nos. are:\n",
            "3\n",
            "5\n",
            "7\n",
            "9\n"
          ]
        }
      ]
    },
    {
      "cell_type": "markdown",
      "source": [
        "31)Write a python program to find following operations for the give the list L: [1,2,3,4,5,6,7,8,9,10] Using reduce function \n",
        "a. compute maximum element from list \n",
        "b. compute sum of list \n"
      ],
      "metadata": {
        "id": "h07yJU3ylYIX"
      }
    },
    {
      "cell_type": "code",
      "source": [
        "import functools\n",
        "lis = [1, 3, 5, 6, 2,4,5,6,865,312,231 ]\n",
        "print(\"The sum of the list elements is : \", end=\"\")\n",
        "print(functools.reduce(lambda a, b: a+b, lis))\n",
        "print(\"The maximum element of the list is : \", end=\"\")\n",
        "print(functools.reduce(lambda a, b: a if a > b else b, lis))"
      ],
      "metadata": {
        "colab": {
          "base_uri": "https://localhost:8080/"
        },
        "id": "g4OLZXi0lh6d",
        "outputId": "50579919-0e85-4af1-bfb8-267f9b8e2348"
      },
      "execution_count": null,
      "outputs": [
        {
          "output_type": "stream",
          "name": "stdout",
          "text": [
            "The sum of the list elements is : 1440\n",
            "The maximum element of the list is : 865\n"
          ]
        }
      ]
    },
    {
      "cell_type": "markdown",
      "source": [
        "32) Given list of elements, the task here is to write a Python function that can remove presence of all a specific digit from every element and then return the resultant list Input : test_list = [333, 893, 1948, 34, 2346], K = 3 \n",
        "Output : [”, 89, 1948, 4, 246] \n",
        "Explanation : All occurrences of 3 are removed\n"
      ],
      "metadata": {
        "id": "UJStFo8zntaQ"
      }
    },
    {
      "cell_type": "code",
      "source": [
        "\n",
        "test_list = [345, 893, 1948, 34, 2346]\n",
        "print(\"The original list is : \" + str(test_list))\n",
        "K = 3\n",
        "res = []\n",
        "for ele in test_list:\n",
        "\tif list(set(str(ele)))[0] == str(K) and len(set(str(ele))) == 1:\n",
        "\t\tres.append('')\n",
        "\telse:\n",
        "\t\tres.append(int(''.join([el for el in str(ele) if int(el) != K])))\n",
        "print(\"Modified List : \" + str(res))\n"
      ],
      "metadata": {
        "colab": {
          "base_uri": "https://localhost:8080/"
        },
        "id": "Ve0f7gMcnymI",
        "outputId": "17e50169-0c6a-41b1-c97c-7915e99ca6b8"
      },
      "execution_count": null,
      "outputs": [
        {
          "output_type": "stream",
          "name": "stdout",
          "text": [
            "The original list is : [345, 893, 1948, 34, 2346]\n",
            "Modified List : [45, 89, 1948, 4, 246]\n"
          ]
        }
      ]
    }
  ]
}