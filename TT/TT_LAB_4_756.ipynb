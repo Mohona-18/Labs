{
  "nbformat": 4,
  "nbformat_minor": 0,
  "metadata": {
    "colab": {
      "name": "TT_4_756.ipynb",
      "provenance": [],
      "collapsed_sections": []
    },
    "kernelspec": {
      "name": "python3",
      "display_name": "Python 3"
    },
    "language_info": {
      "name": "python"
    }
  },
  "cells": [
    {
      "cell_type": "markdown",
      "source": [
        "Mohona Das<br>\n",
        "1905756<br>\n",
        "TT Lab-4<br>"
      ],
      "metadata": {
        "id": "_5biF5Vde-h_"
      }
    },
    {
      "cell_type": "markdown",
      "source": [
        "1) WAP in python that uses a class to store the name and marks of the students. Use list to store the marks in three subjects. "
      ],
      "metadata": {
        "id": "NX4ZAAtgpyVc"
      }
    },
    {
      "cell_type": "code",
      "source": [
        "class students:\n",
        "    def __init__(self, name):\n",
        "        self.name = name\n",
        "        self.marks = []\n",
        "        \n",
        "    def enterMarks(self):\n",
        "        for i in range(3):\n",
        "            m = int(input(\"Enter the marks:\"))\n",
        "            self.marks.append(m)\n",
        "            \n",
        "    def display(self):\n",
        "        print (self.name, self.marks)\n",
        "             \n",
        "name = input(\"Enter the name of Student:\")\n",
        "s1 = students(name)\n",
        "s1.enterMarks()\n",
        "s1.display()\n"
      ],
      "metadata": {
        "colab": {
          "base_uri": "https://localhost:8080/"
        },
        "id": "yFvOjhzZp2Yb",
        "outputId": "6a98f37d-5e49-4c81-af6a-5a634b771043"
      },
      "execution_count": null,
      "outputs": [
        {
          "output_type": "stream",
          "name": "stdout",
          "text": [
            "Enter the name of Student:Raj\n",
            "Enter the marks:90\n",
            "Enter the marks:67\n",
            "Enter the marks:80\n",
            "Raj [90, 67, 80]\n"
          ]
        }
      ]
    },
    {
      "cell_type": "markdown",
      "source": [
        "2) WAP in python with class Employee that keeps a track of the number of employees in an organization and also stores their name, designation and salary details. "
      ],
      "metadata": {
        "id": "Ha9hBxuGsrOk"
      }
    },
    {
      "cell_type": "code",
      "source": [
        "class emp:\n",
        "    count = 0\n",
        "    def __init__(self):\n",
        "        self.name =\"\"\n",
        "        self.dsgn=\"\"\n",
        "        self.sal=\"\"\n",
        "        emp.count = emp.count + 1\n",
        "        \n",
        "    def getdata(self):\n",
        "       self.name=input(\"Enter name \")\n",
        "       self.dsgn=input(\"Enter designation \")\n",
        "       self.sal=float(input(\"Enter salary \"))\n",
        "            \n",
        "    def display(self):\n",
        "        print (self.name,self.dsgn,self.sal)\n",
        "l=list()\n",
        "l.append(emp())            \n",
        "l.append(emp())\n",
        "l.append(emp())\n",
        "for e in l :\n",
        "  e.getdata()\n",
        "  e.display()\n",
        "  print (\"\")\n",
        "\n",
        "print(\"Count \",emp.count)"
      ],
      "metadata": {
        "colab": {
          "base_uri": "https://localhost:8080/"
        },
        "id": "m1a2IiKBszjj",
        "outputId": "5b82b68d-3225-4266-fa1c-d4afedb9d703"
      },
      "execution_count": null,
      "outputs": [
        {
          "output_type": "stream",
          "name": "stdout",
          "text": [
            "Enter name Mr. Ajay\n",
            "Enter designation Asst. Professor\n",
            "Enter salary 120000\n",
            "Mr. Ajay Asst. Professor 120000.0\n",
            "\n",
            "Enter name Mr. KL\n",
            "Enter designation MD\n",
            "Enter salary 150000\n",
            "Mr. KL MD 150000.0\n",
            "\n",
            "Enter name Ms JK\n",
            "Enter designation CEO\n",
            "Enter salary 4\n",
            "Ms JK CEO 4.0\n",
            "\n",
            "Count  3\n"
          ]
        }
      ]
    },
    {
      "cell_type": "markdown",
      "source": [
        "3) WAP in python that has a class Person storing name and date of birth of a person. The program should subtract the date of birth from today’s date to find out that the person is eligible to vote or not. "
      ],
      "metadata": {
        "id": "9BmE2Y3nvQEZ"
      }
    },
    {
      "cell_type": "code",
      "source": [
        "class vote:\n",
        "    def __init__(self):\n",
        "        self.name =\"\"\n",
        "        self.age=0\n",
        "        \n",
        "    def getdata(self):\n",
        "       self.name=input(\"Enter name \")\n",
        "       self.age=int(input(\"Enter age \"))\n",
        "            \n",
        "    def display(self):\n",
        "      if self.age >= 18:\n",
        "        print (\"Eligible to vote \",self.name,self.age)\n",
        "      else:\n",
        "        print (self.name,\" is not eligible \",self.age)\n",
        "\n",
        "v=vote()\n",
        "v.getdata()\n",
        "v.display()\n",
        " "
      ],
      "metadata": {
        "colab": {
          "base_uri": "https://localhost:8080/"
        },
        "id": "QwV1I07xvTpD",
        "outputId": "e036b2c5-7621-4b26-d470-7dae3ab0a0fb"
      },
      "execution_count": null,
      "outputs": [
        {
          "output_type": "stream",
          "name": "stdout",
          "text": [
            "Enter name Mohona \n",
            "Enter age 21\n",
            "Eligible to vote  Mohona  21\n"
          ]
        }
      ]
    },
    {
      "cell_type": "markdown",
      "source": [
        "4) WAP in python that has a class Circle. Use a class variable that defines the value of constant Pie value=3.14. Use this class variable to calculate the area and circumference of the circle with specified radius. "
      ],
      "metadata": {
        "id": "8yC81QIpv9FY"
      }
    },
    {
      "cell_type": "code",
      "source": [
        "class Circle():\n",
        "    def __init__(self, r):\n",
        "        self.radius = r\n",
        "\n",
        "    def area(self):\n",
        "        return self.radius**2*3.14\n",
        "    \n",
        "    def perimeter(self):\n",
        "        return 2*self.radius*3.14\n",
        "\n",
        "obj = Circle(8)\n",
        "print(obj.area())\n",
        "print(obj.perimeter())"
      ],
      "metadata": {
        "colab": {
          "base_uri": "https://localhost:8080/"
        },
        "id": "LGrlCVuUwEdF",
        "outputId": "035e6f5d-67e0-4e24-f9e1-13bca2760769"
      },
      "execution_count": null,
      "outputs": [
        {
          "output_type": "stream",
          "name": "stdout",
          "text": [
            "200.96\n",
            "50.24\n"
          ]
        }
      ]
    },
    {
      "cell_type": "markdown",
      "source": [
        "5) WAP in python that has a class Student that stores the name ,roll no, marks(in three subjects). And display the information(name, roll no, total marks) stored about the students. "
      ],
      "metadata": {
        "id": "-8F2M72uxzKS"
      }
    },
    {
      "cell_type": "code",
      "source": [
        "class student:\n",
        "\n",
        "    def __init__(self):\n",
        "        self.name =\"\"\n",
        "        self.roll=0\n",
        "        self.marks=[]\n",
        "   \n",
        "      \n",
        "    def getdata(self):\n",
        "      self.name=input(\"Enter name \")\n",
        "      self.roll=input(\"Enter roll \")\n",
        "      for i in range(3):\n",
        "        m = int(input(\"Enter the marks \"))\n",
        "        self.marks.append(m)\n",
        "    \n",
        "    def display(self):\n",
        "        print (self.name,self.roll, self.marks, sum(self.marks))\n",
        "l=list()\n",
        "l.append(student())            \n",
        "l.append(student())\n",
        "\n",
        "for e in l :\n",
        "  e.getdata()\n",
        "  e.display()\n",
        "  print (\"\")\n",
        "\n"
      ],
      "metadata": {
        "colab": {
          "base_uri": "https://localhost:8080/"
        },
        "id": "uLMpQ_qGx39C",
        "outputId": "f3607b4b-68e0-4aea-8fd3-d334eb5e161c"
      },
      "execution_count": null,
      "outputs": [
        {
          "output_type": "stream",
          "name": "stdout",
          "text": [
            "Enter name A\n",
            "Enter roll 1\n",
            "Enter the marks2\n",
            "Enter the marks3\n",
            "Enter the marks4\n",
            "A 1 [2, 3, 4] 9\n",
            "\n",
            "Enter name 4\n",
            "Enter roll 2\n",
            "Enter the marks4\n",
            "Enter the marks5\n",
            "Enter the marks5\n",
            "4 2 [4, 5, 5] 14\n",
            "\n"
          ]
        }
      ]
    },
    {
      "cell_type": "markdown",
      "source": [
        "6) WAP in python that has a class Rectangle with attribute length and breadth and a method area that returns the area of the circle. "
      ],
      "metadata": {
        "id": "Jk1lspxTx3P7"
      }
    },
    {
      "cell_type": "code",
      "source": [
        "class Rectangle:\n",
        "    def __init__(self, l, w):\n",
        "        self.length = l\n",
        "        self.width  = w\n",
        "\n",
        "    def rectangle_area(self):\n",
        "        return self.length*self.width\n",
        "\n",
        "l=int(input(\"Enter length \"))\n",
        "w=int(input(\"Enter breadth \"))\n",
        "obj = Rectangle(l,w)\n",
        "print(obj.rectangle_area())"
      ],
      "metadata": {
        "colab": {
          "base_uri": "https://localhost:8080/"
        },
        "id": "MECxJRs6zXH6",
        "outputId": "f978aa73-43f0-46c8-83eb-c3df6964a287"
      },
      "execution_count": null,
      "outputs": [
        {
          "output_type": "stream",
          "name": "stdout",
          "text": [
            "Enter length 5\n",
            "Enter breadth 6\n",
            "30\n"
          ]
        }
      ]
    },
    {
      "cell_type": "markdown",
      "source": [
        "7) WAP in python that has a class Fraction with attributes numerator and denominator. Enter the values to the attributes and print the function in simplified forms. "
      ],
      "metadata": {
        "id": "T1KStknAzprq"
      }
    },
    {
      "cell_type": "code",
      "source": [
        "from math import gcd\n",
        "class Fraction:\n",
        "  def __init__(self,n,d):\n",
        "    self.n=n\n",
        "    self.d=d\n",
        "\n",
        "  def display(self):\n",
        "    d = gcd(self.n, self.d);\n",
        "    print(\"Numerator=\",(self.n//d),\" Denominator=\",(self.d//d));\n",
        "\n",
        "n=int(input(\"Enter numerator \"))\n",
        "d=int(input(\"Enter denominator \"))\n",
        "obj=Fraction(n,d)\n",
        "obj.display()"
      ],
      "metadata": {
        "colab": {
          "base_uri": "https://localhost:8080/"
        },
        "id": "UhfCgiFh2n1Q",
        "outputId": "39db3577-1c7d-4d4b-ec64-1d9edf3b7d4e"
      },
      "execution_count": null,
      "outputs": [
        {
          "output_type": "stream",
          "name": "stdout",
          "text": [
            "Enter numerator4\n",
            "Enter denominator16\n",
            "Numerator= 1  Denominator= 4\n"
          ]
        }
      ]
    },
    {
      "cell_type": "markdown",
      "source": [
        "8) WAP in python that has an abstract class Polygon. Derive two classes Rectangle and Triangle from polygon and write methods to get the details of their dimensions and hence calculate the area. "
      ],
      "metadata": {
        "id": "nKHSwah6ztSp"
      }
    },
    {
      "cell_type": "code",
      "source": [
        "from abc import ABC, abstractmethod\n",
        "class Polygon(ABC):\n",
        "    @abstractmethod\n",
        "    def get_area(self):\n",
        "        pass\n",
        "class Rectangle(Polygon):\n",
        "\n",
        "    def __init__(self,l):\n",
        "        self.x=l[0]\n",
        "        self.y=l[1]\n",
        "\n",
        "    def get_area(self):\n",
        "        return self.x * self.y\n",
        "\n",
        "class Triangle(Polygon):\n",
        "\n",
        "    def __init__(self, l):\n",
        "      self.a=l[0]\n",
        "      self.b=l[1]\n",
        "      self.c=l[2]\n",
        "\n",
        "    def get_area(self):\n",
        "        s = (self.a + self.b + self.c) / 2\n",
        "        return (s*(s-self.a)*(s-self.b)*(s-self.c)) ** 0.5\n",
        "\n",
        "t=Triangle([3.0, 4.0, 5.0])\n",
        "print(\"Area of triangle=\",t.get_area())\n",
        "\n",
        "t=Rectangle([3.0, 4.0, 5.0])\n",
        "print(\"Area of Rectangle=\",t.get_area())"
      ],
      "metadata": {
        "colab": {
          "base_uri": "https://localhost:8080/"
        },
        "id": "MA7EcdoqeFIU",
        "outputId": "72fdae0f-9b79-4524-e9eb-45128d2ad569"
      },
      "execution_count": null,
      "outputs": [
        {
          "output_type": "stream",
          "name": "stdout",
          "text": [
            "Area of triangle= 6.0\n",
            "Area of Rectangle= 12.0\n"
          ]
        }
      ]
    },
    {
      "cell_type": "markdown",
      "source": [
        "9) WAP in python with class Bill. The users have the option to pay the bill by card or by cash. Use the inheritance to model this situation"
      ],
      "metadata": {
        "id": "ay57ryDCzxon"
      }
    },
    {
      "cell_type": "code",
      "source": [
        "class Bill:\n",
        "  def __init__(self,amt):\n",
        "    self.amt=amt\n",
        "  def func1(self):\n",
        "    print(\"Amount is ::\",self.amt)\n",
        "\n",
        "\n",
        "class Cash(Bill):\n",
        "  def __init__(self,amt):\n",
        "    super().__init__(amt)\n",
        "  def func2(self):\n",
        "    print(\"Paid by cash\")\n",
        "\n",
        "class Card(Bill):\n",
        "  def __init__(self,amt):\n",
        "    super().__init__(amt)\n",
        "  def func3(self):\n",
        "    print(\"Paid by card\")\n",
        "\n",
        "# Driver's code\n",
        "obj1 = Cash(1000)\n",
        "obj1.func1()\n",
        "obj1.func2()\n",
        "\n",
        "obj1 = Card(10000)\n",
        "obj1.func1()\n",
        "obj1.func3()\n",
        "\n"
      ],
      "metadata": {
        "colab": {
          "base_uri": "https://localhost:8080/"
        },
        "id": "tQSsQ-ioEEBs",
        "outputId": "499cc890-a6ae-4bd8-bd06-05252b19b535"
      },
      "execution_count": null,
      "outputs": [
        {
          "output_type": "stream",
          "name": "stdout",
          "text": [
            "Amount is :: 1000\n",
            "Paid by cash\n",
            "Amount is :: 10000\n",
            "Paid by card\n"
          ]
        }
      ]
    },
    {
      "cell_type": "markdown",
      "source": [
        "10) WAP in python has a class Person. Inherit a class Faculty from person which also have class publications."
      ],
      "metadata": {
        "id": "u5v5aGzgz1cn"
      }
    },
    {
      "cell_type": "code",
      "source": [
        "class Person:\n",
        "  def __init__(self,name):\n",
        "    self.name=name\n",
        "\n",
        "class Faculty(Person):\n",
        "  def __init__(self,name,id,pname):\n",
        "    super().__init__(name)\n",
        "    self.id = id\n",
        "    self.pub = self.Publication(pname)\n",
        "\t\n",
        "  def show(self):\n",
        "  \tprint(\"Name:\", self.name,\"\\nID : \",self.id)\n",
        "\t\n",
        "  class Publication:\n",
        "\t  def __init__(self,pname):\n",
        "\t\t  self.name = pname\n",
        "\n",
        "\t\n",
        "\t  def display(self):\n",
        "\t\t  print(\"Publication Name:\", self.name)\n",
        "\t\t\n",
        "\n",
        "obj= Faculty(\"S. Arora\",12345,\"DN Publication\")\n",
        "obj.show()\n",
        "g = obj.pub\n",
        "g.display()\n"
      ],
      "metadata": {
        "colab": {
          "base_uri": "https://localhost:8080/"
        },
        "id": "vFEOnPbacJVp",
        "outputId": "2c969137-5982-4cee-ef27-110d0e5612f7"
      },
      "execution_count": null,
      "outputs": [
        {
          "output_type": "stream",
          "name": "stdout",
          "text": [
            "Name: S. Arora \n",
            "ID :  12345\n",
            "Publication Name: DN Publication\n"
          ]
        }
      ]
    },
    {
      "cell_type": "markdown",
      "source": [
        "11) Write a Python program that has a class Store that keeps a record of code and price\n",
        "of each product. Display a menu of all products to the user and prompt him to enter\n",
        "the quantity of each item required. Generate a bill and display the total amount."
      ],
      "metadata": {
        "id": "bpkJ-9xildH3"
      }
    },
    {
      "cell_type": "code",
      "source": [
        "class Store:\n",
        "  def getdata(self):\n",
        "    self.name=input(\"Enter name \")\n",
        "    self.q=int(input(\"Enter quantity \"))\n",
        "    self.code=(input(\"Enter Code \"))\n",
        "    self.price=float(input(\"Enter price \"))\n",
        "\n",
        "  def display(self):\n",
        "    print(self.name,\" \",self.q,\" \",self.code,\" \",self.price)\n",
        "  \n",
        "  \n",
        "l=list()\n",
        "l.append(Store())            \n",
        "l.append(Store())\n",
        "for e in l:\n",
        "  e.getdata();\n",
        "\n",
        "for e in l:\n",
        "  e.display();\n",
        "\n",
        "name=input(\"Enter name \")\n",
        "quant=int(input(\"Enter quantity \"))\n",
        "for e in l:\n",
        "  if name==e.name and quant<=e.q:\n",
        "    print(\"Bill : \" ,quant*e.price)\n",
        "    e.q=e.q-quant\n",
        "    break;\n",
        "\n",
        "\n",
        "  \n"
      ],
      "metadata": {
        "colab": {
          "base_uri": "https://localhost:8080/"
        },
        "id": "iFDoR9EJl2sU",
        "outputId": "5d2b6fed-0187-4fe5-a94f-5dee359a6c6f"
      },
      "execution_count": null,
      "outputs": [
        {
          "output_type": "stream",
          "name": "stdout",
          "text": [
            "Enter name A\n",
            "Enter quantity 12\n",
            "Enter Code 12A\n",
            "Enter price 12\n",
            "Enter name B\n",
            "Enter quantity 19\n",
            "Enter Code 45C\n",
            "Enter price 15\n",
            "A   12   12A   12.0\n",
            "B   19   45C   15.0\n",
            "Enter name A\n",
            "Enter quantity 3\n",
            "Bill :  36.0\n"
          ]
        }
      ]
    },
    {
      "cell_type": "markdown",
      "source": [
        "12) Write a Python program that has a class Numbers with values stored in a list. Write\n",
        "a class method to find the largest value."
      ],
      "metadata": {
        "id": "YzxGEuedsvi5"
      }
    },
    {
      "cell_type": "code",
      "source": [
        "class Numbers:\n",
        "  def __init__(self):\n",
        "    self.l=[1,2,3,4,5,6,8,33,-7465,123]\n",
        "  def maxi(self):\n",
        "    return max(self.l)\n",
        "\n",
        "obj=Numbers();\n",
        "print(obj.maxi())"
      ],
      "metadata": {
        "colab": {
          "base_uri": "https://localhost:8080/"
        },
        "id": "fIjaPb7RtXs0",
        "outputId": "ead72dce-1499-4b21-f846-1b7f9a8ff3e1"
      },
      "execution_count": null,
      "outputs": [
        {
          "output_type": "stream",
          "name": "stdout",
          "text": [
            "123\n"
          ]
        }
      ]
    },
    {
      "cell_type": "markdown",
      "source": [
        "13) Write a Python Program to create a class that stores a string and all its status\n",
        "details\n",
        "such as the number of uppercase characters, vowels and consonants, spaces etc."
      ],
      "metadata": {
        "id": "NZ9GoSFttuNL"
      }
    },
    {
      "cell_type": "code",
      "source": [
        "class Count:\n",
        "  def __init__ (self):\n",
        "    self.s=\"\"\n",
        "    self.v = self.c = self.u = self.l= 0\n",
        "  def getdata(self,s):\n",
        "    self.s=s;\n",
        "  def counts(self):\n",
        "    for i in self.s:\n",
        "      if(i == 'a' or i == 'e' or i == 'i' or i == 'o' or i == 'u'or i == 'A' or i == 'E' or i == 'I' or i == 'O' or i == 'U'):\n",
        "         self.v = self.v +1\n",
        "      else:\n",
        "         self.c = self.c + 1\n",
        "      if i.isupper() :\n",
        "        self.u = self.u + 1\n",
        "         \n",
        "      if i.islower():\n",
        "        self.l = self.l + 1\n",
        "\n",
        "  def display(self):\n",
        "    print(self.s,\" Vowels \",self.v,\" consonants \",self.c,\" lower case \",self.l,\" upper case \",self.u)\n",
        "\n",
        "\n",
        "obj=Count()\n",
        "obj.getdata(\"World\")\n",
        "obj.counts()\n",
        "obj.display()\n"
      ],
      "metadata": {
        "colab": {
          "base_uri": "https://localhost:8080/"
        },
        "id": "4RrG4obet0WP",
        "outputId": "6f588d98-e210-475c-acbb-e3b60adc0040"
      },
      "execution_count": null,
      "outputs": [
        {
          "output_type": "stream",
          "name": "stdout",
          "text": [
            "World  Vowels  1  consonants  4  lower case  4  upper case  1\n"
          ]
        }
      ]
    },
    {
      "cell_type": "markdown",
      "source": [
        "14) Write a Python Program using class and object to deposit or withdraw money in a\n",
        "bank account.\n",
        "If the balance is 0 -> Display as ”New Account Created”\n",
        "If the balance is credited with some amount-> Show the New Balance"
      ],
      "metadata": {
        "id": "5dPfOMecxgbQ"
      }
    },
    {
      "cell_type": "code",
      "source": [
        "class Bank_Account:\n",
        "\tdef __init__(self,b=0):\n",
        "\t\tself.balance=b\n",
        "\t\tprint(\"Hello!!! Welcome to the Deposit & Withdrawal Machine\")\n",
        "\n",
        "\tdef deposit(self):\n",
        "\t\tamount=float(input(\"Enter amount to be Deposited: \"))\n",
        "\t\tself.balance += amount\n",
        "\t\tprint(\"\\n Amount Deposited:\",amount,\" Total Balance :\",self.balance)\n",
        "\n",
        "\tdef withdraw(self):\n",
        "\t\tamount = float(input(\"Enter amount to be Withdrawn: \"))\n",
        "\t\tif self.balance>=amount:\n",
        "\t\t\tself.balance-=amount\n",
        "\t\t\tprint(\"\\n You Withdrew:\", amount,\" Total Balance:\",self.balance)\n",
        "\t\telse:\n",
        "\t\t\tprint(\"\\n Insufficient balance \")\n",
        "\n",
        "\tdef display(self):\n",
        "\t  print(\"\\n Net Available Balance=\",self.balance)\n",
        "\n",
        "s=Bank_Account()\n",
        "s.display()\n",
        "if s.balance == 0:\n",
        "  print (\"Account created\")\n",
        "\n",
        "s.deposit()\n",
        "s.withdraw()\n",
        "\n",
        "s1=Bank_Account(1000)\n",
        "s1.display()\n",
        "if s.balance == 0:\n",
        "  print (\"Account created\")\n",
        "s1.deposit()\n",
        "s1.withdraw()\n",
        "\n"
      ],
      "metadata": {
        "colab": {
          "base_uri": "https://localhost:8080/",
          "height": 0
        },
        "id": "Hd6Jf0gOq1RR",
        "outputId": "2953b1ff-adca-4f01-a760-5fbdbd36ebc9"
      },
      "execution_count": 7,
      "outputs": [
        {
          "output_type": "stream",
          "name": "stdout",
          "text": [
            "Hello!!! Welcome to the Deposit & Withdrawal Machine\n",
            "\n",
            " Net Available Balance= 0\n",
            "Account created\n",
            "Enter amount to be Deposited: 1000\n",
            "\n",
            " Amount Deposited: 1000.0  Total Balance : 1000.0\n",
            "Enter amount to be Withdrawn: 1\n",
            "\n",
            " You Withdrew: 1.0  Total Balance: 999.0\n",
            "Hello!!! Welcome to the Deposit & Withdrawal Machine\n",
            "\n",
            " Net Available Balance= 1000\n",
            "Enter amount to be Deposited: 9000\n",
            "\n",
            " Amount Deposited: 9000.0  Total Balance : 10000.0\n",
            "Enter amount to be Withdrawn: 12000\n",
            "\n",
            " Insufficient balance \n"
          ]
        }
      ]
    },
    {
      "cell_type": "markdown",
      "source": [
        "15) Write a Program to print an index at which a particular value exists. If the value\n",
        "exists at multiple locations in the list, then prints all the indices. Also, count the\n",
        "number of times that value is repeated in the list."
      ],
      "metadata": {
        "id": "m-ffM69yxuYE"
      }
    },
    {
      "cell_type": "code",
      "source": [
        "class Code:\n",
        "  def __init__ (self,l):\n",
        "    self.l=l.copy()\n",
        "\n",
        "  def cal(self,n):\n",
        "    c=0\n",
        "    for i in self.l:\n",
        "      if i==n:\n",
        "        c+=1\n",
        "        print(self.l.index(i))\n",
        "    \n",
        "    \n",
        "    if c==0:\n",
        "      print(\"Number doesn't exist in the list\")\n",
        "\n",
        "    else :\n",
        "      print(\"The no of times \",n,\" occurs is \",c)\n",
        "\n",
        "l=[2,43,21,5654,231,6545,213,11,456,65]\n",
        "obj=Code(l.copy())\n",
        "n=int(input(\"Enter  number to search \"))\n",
        "obj.cal(n)\n",
        "\n",
        "\n",
        "\n"
      ],
      "metadata": {
        "colab": {
          "base_uri": "https://localhost:8080/"
        },
        "id": "3Mxltkqc_C2r",
        "outputId": "e0047ee5-d753-4bde-ccd1-d6877dfd0170"
      },
      "execution_count": null,
      "outputs": [
        {
          "output_type": "stream",
          "name": "stdout",
          "text": [
            "Enter  number to search 2\n",
            "0\n",
            "The no of times  2  occurs is  1\n"
          ]
        }
      ]
    },
    {
      "cell_type": "markdown",
      "source": [
        "16) Write a program that forms a list of the first character of every word in another list."
      ],
      "metadata": {
        "id": "AH-Cqk8rxyUJ"
      }
    },
    {
      "cell_type": "code",
      "source": [
        "class Code:\n",
        "  def __init__ (self,l):\n",
        "    self.l=l.copy()\n",
        "\n",
        "  def cal(self):\n",
        "    li=list();\n",
        "    for i in self.l:\n",
        "      li.append(i[0])\n",
        "      \n",
        "    return li.copy()\n",
        "\n",
        "l = ['cat', 'dog', 'rabbit', 'horse','dog']\n",
        "obj=Code(l.copy())\n",
        "li=obj.cal()\n",
        "print(li)"
      ],
      "metadata": {
        "colab": {
          "base_uri": "https://localhost:8080/"
        },
        "id": "rkXz4vRDCzYk",
        "outputId": "fdfd69b6-9f4e-4649-f3bc-beae58f93885"
      },
      "execution_count": null,
      "outputs": [
        {
          "output_type": "stream",
          "name": "stdout",
          "text": [
            "['c', 'd', 'r', 'h', 'd']\n"
          ]
        }
      ]
    },
    {
      "cell_type": "markdown",
      "source": [
        "17) Write a Python program that reads a file line by line. Each line read from the file is\n",
        "copied to another file with line numbers specified at the beginning of the line."
      ],
      "metadata": {
        "id": "XWanKdZHx1jc"
      }
    },
    {
      "cell_type": "code",
      "source": [
        "with open(\"/hi.txt\") as f:\n",
        "    with open(\"out.txt\", \"w\") as f1:\n",
        "        i=1\n",
        "        for line in f:\n",
        "            line=str(i)+\":\" +line\n",
        "            f1.write(line)\n",
        "            i+=1\n",
        "\n",
        "#Original File Content\n",
        "print(\"Original File Content\")\n",
        "with open(\"/hi.txt\",\"r\") as f:\n",
        "    for l in f:\n",
        "        print(l)\n",
        "\n",
        "\n",
        "#Output File Content\n",
        "print(\"Output File\")\n",
        "with open(\"out.txt\",\"r\") as f:\n",
        "    for l in f:\n",
        "        print(l)\n"
      ],
      "metadata": {
        "colab": {
          "base_uri": "https://localhost:8080/"
        },
        "id": "18nStXz0YUni",
        "outputId": "f01376fa-3f30-4ff3-94f6-726a9aaf9bac"
      },
      "execution_count": null,
      "outputs": [
        {
          "output_type": "stream",
          "name": "stdout",
          "text": [
            "Original File Content\n",
            "Lorem ipsum dolor sit amet. Ea obcaecati eligendi et reprehenderit autem quo porro praesentium est facilis voluptatum\n",
            "\n",
            "sit quam consectetur? Ut repellat et commodi maxime eum dicta laboriosam 33 facilis odio eos deserunt assumenda. Ab ipsam\n",
            "\n",
            "maxime ut porro autem sed molestiae delectus aut velit nobis et perferendis porro et enim sint.\n",
            "\n",
            "Est rerum reprehenderit eos nesciunt deleniti a dolores deserunt qui facere sunt qui laudantium commodi ea illo veniam\n",
            "\n",
            "et consequuntur galisum. Et culpa quaerat et officia veritatis eos laborum minus cum rerum modi.\n",
            "Output File\n",
            "1:Lorem ipsum dolor sit amet. Ea obcaecati eligendi et reprehenderit autem quo porro praesentium est facilis voluptatum\n",
            "\n",
            "2:sit quam consectetur? Ut repellat et commodi maxime eum dicta laboriosam 33 facilis odio eos deserunt assumenda. Ab ipsam\n",
            "\n",
            "3:maxime ut porro autem sed molestiae delectus aut velit nobis et perferendis porro et enim sint.\n",
            "\n",
            "4:Est rerum reprehenderit eos nesciunt deleniti a dolores deserunt qui facere sunt qui laudantium commodi ea illo veniam\n",
            "\n",
            "5:et consequuntur galisum. Et culpa quaerat et officia veritatis eos laborum minus cum rerum modi.\n"
          ]
        }
      ]
    },
    {
      "cell_type": "markdown",
      "source": [
        "<hr>\n",
        "<hr>"
      ],
      "metadata": {
        "id": "bbJPw1dqYJrb"
      }
    }
  ]
}